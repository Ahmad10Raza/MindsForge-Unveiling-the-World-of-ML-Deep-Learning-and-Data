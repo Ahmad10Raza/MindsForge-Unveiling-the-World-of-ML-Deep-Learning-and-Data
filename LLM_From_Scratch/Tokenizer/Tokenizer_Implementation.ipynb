{
 "cells": [
  {
   "cell_type": "markdown",
   "id": "08d4a8bf",
   "metadata": {},
   "source": [
    "\n",
    "## **What is a Token?**\n",
    "\n",
    "* A **token** is the smallest unit of text that a model processes.\n",
    "* Depending on the tokenization method, a token can be:\n",
    "\n",
    "  * A **character** → `\"h\"`, `\"e\"`, `\"l\"`, `\"l\"`, `\"o\"`\n",
    "  * A **word** → `\"hello\"`, `\"world\"`\n",
    "  * A **subword** → `\"hel\"`, `\"lo\"`, `\"world\"`\n",
    "  * A **symbol/punctuation** → `\".\"`, `\",\"`, `\"?\"`\n",
    "  * Sometimes even **bytes**\n",
    "\n",
    "👉 In LLMs, we usually don’t work with raw words, but with **subword tokens** because:\n",
    "\n",
    "* Vocabulary stays smaller (manageable embedding matrix).\n",
    "* Can handle rare words by breaking them down.\n",
    "* Helps with morphologically rich languages (e.g., German, Hindi).\n",
    "\n",
    "---\n",
    "\n",
    "## **Tokenization Approaches & Algorithms**\n",
    "\n",
    "### **1. Word-level Tokenization**\n",
    "\n",
    "* Splits text into words using spaces/punctuation.\n",
    "* Example: `\"I love AI!\"` → `[\"I\", \"love\", \"AI\"]`\n",
    "* Issues:\n",
    "\n",
    "  * Huge vocabulary size (millions of words).\n",
    "  * Out-of-vocabulary (OOV) problem → model can’t handle unseen words.\n",
    "* Used in early NLP models (pre-transformers).\n",
    "\n",
    "---\n",
    "\n",
    "### **2. Character-level Tokenization**\n",
    "\n",
    "* Splits text into characters.\n",
    "* Example: `\"I love AI\"` → `[\"I\", \" \", \"l\", \"o\", \"v\", \"e\", \" \", \"A\", \"I\"]`\n",
    "* Pros:\n",
    "\n",
    "  * Small vocabulary (\\~100 chars).\n",
    "  * No OOV issue.\n",
    "* Cons:\n",
    "\n",
    "  * Sequences are very long → harder to model dependencies.\n",
    "* Used in early RNN/CNN text models, and some modern LLM experiments (Charformer).\n",
    "\n",
    "---\n",
    "\n",
    "### **3. Subword Tokenization (Most Common in LLMs)**\n",
    "\n",
    "Balances between word-level and character-level.\n",
    "\n",
    "#### **a) Byte Pair Encoding (BPE)**\n",
    "\n",
    "* Start with characters.\n",
    "* Iteratively merge most frequent character pairs into bigger units.\n",
    "* Example:\n",
    "\n",
    "  * `\"l o w e r\"` → merge `\"lo\"` → `\"lo w e r\"` → merge `\"er\"` → `\"lo wer\"`\n",
    "  * `\"lowest\"` → `\"lo w est\"`\n",
    "* Used in GPT-2, GPT-3, LLaMA.\n",
    "\n",
    "#### **b) WordPiece (used in BERT, ALBERT)**\n",
    "\n",
    "* Similar to BPE, but uses a **likelihood-based objective** instead of greedy frequency merges.\n",
    "* Example: `\"unhappiness\"` → `[\"un\", \"##happiness\"]`\n",
    "\n",
    "#### **c) Unigram Language Model (used in SentencePiece, XLNet, T5)**\n",
    "\n",
    "* Start with a large vocabulary, then **prune** tokens that don’t improve likelihood.\n",
    "* Probabilistic: chooses the best segmentation for a word.\n",
    "\n",
    "---\n",
    "\n",
    "### **4. Byte-Level Tokenization**\n",
    "\n",
    "* Treats raw text as UTF-8 bytes (0–255).\n",
    "* Example: `\"hello\"` → `[104, 101, 108, 108, 111]`\n",
    "* Pros:\n",
    "\n",
    "  * Universal for all languages (no OOV issue).\n",
    "  * Supports emojis, rare symbols.\n",
    "* Used in GPT-2 (Byte-Level BPE).\n",
    "\n",
    "---\n",
    "\n",
    "### **5. SentencePiece**\n",
    "\n",
    "* Framework from Google (used in T5, XLNet).\n",
    "* Doesn’t rely on whitespace.\n",
    "* Can handle languages without spaces (like Chinese, Japanese).\n",
    "* Supports both **BPE** and **Unigram LM**.\n",
    "\n",
    "---\n",
    "\n",
    "### **6. Modern Tokenizer Approaches**\n",
    "\n",
    "* **SentencePiece Unigram LM** → T5, XLNet.\n",
    "* **Byte-Level BPE** → GPT-2, GPT-3, LLaMA.\n",
    "* **tiktoken** (OpenAI’s tokenizer for GPT-3.5/4) → Highly optimized, uses byte fallback.\n",
    "* **BPETokenizer in Hugging Face** → Standard for training custom LLMs.\n",
    "\n",
    "---\n",
    "\n",
    "## **Comparison of Tokenization Approaches**\n",
    "\n",
    "| Method          | Pros                                   | Cons                                  | Used In             |\n",
    "| --------------- | -------------------------------------- | ------------------------------------- | ------------------- |\n",
    "| Word-level      | Simple, intuitive                      | OOV problem, huge vocab               | Early NLP           |\n",
    "| Character-level | Small vocab, no OOV                    | Long sequences, harder training       | Char-CNN, CharRNN   |\n",
    "| BPE             | Handles rare words, compact vocab      | Greedy merges, deterministic          | GPT-2, GPT-3, LLaMA |\n",
    "| WordPiece       | Probabilistic, robust                  | More complex training                 | BERT, RoBERTa       |\n",
    "| Unigram LM      | Probabilistic, flexible                | Requires careful pruning              | T5, XLNet           |\n",
    "| Byte-level      | Universal (supports emojis, all langs) | Sequences longer than subword methods | GPT-2, GPT-3        |\n",
    "| SentencePiece   | Language-agnostic, supports scripts    | Slightly slower                       | T5, XLNet           |\n",
    "\n",
    "---\n",
    "\n",
    "⚡ In **modern LLMs (GPT, LLaMA, Mistral, Falcon, etc.)**, the standard choice is **Byte-Level BPE or SentencePiece Unigram LM**.\n"
   ]
  },
  {
   "cell_type": "markdown",
   "id": "c6adaf49",
   "metadata": {},
   "source": [
    "\n",
    "## **What is Byte Pair Encoding (BPE)?**\n",
    "\n",
    "Byte Pair Encoding (BPE) is a **subword tokenization algorithm**.\n",
    "\n",
    "* Goal: represent text using a manageable vocabulary while handling rare/unseen words.\n",
    "* Key idea: Start from characters, then repeatedly merge the **most frequent pairs** of symbols to form bigger units (subwords).\n",
    "\n",
    "So instead of storing `\"antidisestablishmentarianism\"` as a single word (huge vocab), BPE breaks it into **subwords** like `\"anti\"`, `\"dis\"`, `\"establish\"`, `\"ment\"`, `\"arian\"`, `\"ism\"`.\n",
    "\n",
    "---\n",
    "\n",
    "## **How BPE Works – Step by Step**\n",
    "\n",
    "Let’s tokenize `\"lower lowest\"` as an example.\n",
    "\n",
    "### **Step 1: Initialization**\n",
    "\n",
    "* Start with characters (plus a special end-of-word marker, like `</w>`).\n",
    "* Vocabulary:\n",
    "  `\"l o w e r </w>\"`\n",
    "  `\"l o w e s t </w>\"`\n",
    "\n",
    "So sequence looks like:\n",
    "\n",
    "* `\"lower\"` → `[\"l\", \"o\", \"w\", \"e\", \"r\", \"</w>\"]`\n",
    "* `\"lowest\"` → `[\"l\", \"o\", \"w\", \"e\", \"s\", \"t\", \"</w>\"]`\n",
    "\n",
    "---\n",
    "\n",
    "### **Step 2: Count symbol pairs**\n",
    "\n",
    "* Count all adjacent pairs:\n",
    "\n",
    "  * `\"l o\"`, `\"o w\"`, `\"w e\"`, `\"e r\"`, `\"e s\"`, `\"s t\"`, `\"t </w>\"`, etc.\n",
    "* Find the **most frequent pair**.\n",
    "\n",
    "---\n",
    "\n",
    "### **Step 3: Merge most frequent pair**\n",
    "\n",
    "* Suppose `\"l o\"` occurs most often → merge into `\"lo\"`.\n",
    "* New vocab:\n",
    "  `\"lo w e r </w>\"`,\n",
    "  `\"lo w e s t </w>\"`\n",
    "\n",
    "---\n",
    "\n",
    "### **Step 4: Repeat merges**\n",
    "\n",
    "* Next frequent: `\"w e\"` → `\"we\"`\n",
    "  `\"lo we r </w>\"`,\n",
    "  `\"lo we s t </w>\"`\n",
    "\n",
    "* Next frequent: `\"we r\"` → `\"wer\"`\n",
    "  `\"lo wer </w>\"`,\n",
    "  `\"lo we s t </w>\"`\n",
    "\n",
    "* Next frequent: `\"s t\"` → `\"st\"`\n",
    "  `\"lo wer </w>\"`,\n",
    "  `\"lo west </w>\"`\n",
    "\n",
    "---\n",
    "\n",
    "### **Step 5: Final tokens**\n",
    "\n",
    "Now we have a vocabulary:\n",
    "`[\"lo\", \"wer\", \"west\", \"</w>\"]`\n",
    "\n",
    "So:\n",
    "\n",
    "* `\"lower\"` → `[lo, wer]`\n",
    "* `\"lowest\"` → `[lo, west]`\n",
    "\n",
    "---\n",
    "\n",
    "## **Properties of BPE**\n",
    "\n",
    "✅ Handles **rare words**: `\"unhappiness\"` → `\"un\" + \"happiness\"`\n",
    "✅ Keeps **frequent words** whole: `\"the\"` stays `\"the\"`\n",
    "✅ Keeps **vocab size small** (usually 30k–50k tokens in LLMs).\n",
    "✅ Easy to train and implement.\n",
    "\n",
    "❌ Greedy merges: doesn’t always produce the *linguistically best* segmentation.\n",
    "❌ Doesn’t adapt dynamically → fixed vocab once trained.\n",
    "\n",
    "---\n",
    "\n",
    "## **Why BPE for GPT-2/3/LLaMA?**\n",
    "\n",
    "* GPT models use **Byte-Level BPE**:\n",
    "\n",
    "  * Works on raw **UTF-8 bytes** (so it can handle emojis, non-English scripts).\n",
    "  * Then applies BPE merges on top of bytes.\n",
    "  * Example: `\"😊\"` is just a byte sequence, so no OOV issue.\n",
    "\n",
    "This makes GPT universal across languages + symbols.\n",
    "\n",
    "---\n",
    "\n",
    "## **Mini Example of BPE Merge Table**\n",
    "\n",
    "If we train BPE on `\"banana bandana\"`:\n",
    "\n",
    "| Iteration | Most Frequent Pair | New Tokens |\n",
    "| --------- | ------------------ | ---------- |\n",
    "| 1         | `\"a n\"`            | `\"an\"`     |\n",
    "| 2         | `\"b an\"`           | `\"ban\"`    |\n",
    "| 3         | `\"ban a\"`          | `\"bana\"`   |\n",
    "| 4         | `\"ban an\"`         | `\"banan\"`  |\n",
    "| 5         | `\"banan a\"`        | `\"banana\"` |\n",
    "\n",
    "So `\"banana\"` becomes a single token in the final vocab.\n",
    "\n"
   ]
  },
  {
   "cell_type": "markdown",
   "id": "13457489",
   "metadata": {},
   "source": [
    "\n",
    "## **What is WordPiece?**\n",
    "\n",
    "* **WordPiece** is a **subword tokenization algorithm** (like BPE).\n",
    "* Developed by Google (for Neural Machine Translation, then BERT).\n",
    "* Goal: Balance between **small vocabulary** and **coverage of rare words**.\n",
    "\n",
    "### Difference from BPE:\n",
    "\n",
    "* **BPE** merges pairs of symbols based on **highest frequency**.\n",
    "* **WordPiece** merges based on **likelihood of the training corpus** (using a probabilistic language model).\n",
    "\n",
    "So instead of being greedy with frequency, WordPiece asks:\n",
    "👉 *“Does merging this pair make my model better at predicting words?”*\n",
    "\n",
    "---\n",
    "\n",
    "## **How WordPiece Works – Step by Step**\n",
    "\n",
    "Let’s say we have the corpus:\n",
    "\n",
    "```\n",
    "\"unwanted\", \"unwatched\", \"undo\", \"redo\"\n",
    "```\n",
    "\n",
    "### **Step 1: Start with characters**\n",
    "\n",
    "* `\"u\", \"n\", \"w\", \"a\", \"n\", \"t\", \"e\", \"d\"`, etc.\n",
    "* Plus special tokens like `[UNK]`, `[CLS]`, `[SEP]`, `[PAD]`, `[MASK]`.\n",
    "\n",
    "---\n",
    "\n",
    "### **Step 2: Iteratively add new subwords**\n",
    "\n",
    "* WordPiece tries to maximize the **likelihood** of training data under a simple **unigram language model**.\n",
    "* At each step, it evaluates candidate merges and picks the one that most increases the log-likelihood.\n",
    "\n",
    "Example merges:\n",
    "\n",
    "* `\"un\"` (common across `unwanted`, `unwatched`, `undo`)\n",
    "* `\"want\"`, `\"watched\"`, `\"redo\"`\n",
    "\n",
    "---\n",
    "\n",
    "### **Step 3: Subword segmentation**\n",
    "\n",
    "* Vocabulary after merges might look like:\n",
    "  `[\"u\", \"n\", \"un\", \"want\", \"watched\", \"redo\", \"do\", \"ed\", \"##ed\"]`\n",
    "\n",
    "* WordPiece uses `\"##\"` to indicate that a token is a **continuation** of a previous token (not word start).\n",
    "\n",
    "Example:\n",
    "\n",
    "* `\"unwanted\"` → `[\"un\", \"want\", \"##ed\"]`\n",
    "* `\"redo\"` → `[\"re\", \"##do\"]`\n",
    "* `\"unknown\"` → `[\"unk\", \"##now\", \"##n\"]` (or `[UNK]` if completely missing)\n",
    "\n",
    "---\n",
    "\n",
    "## **WordPiece vs BPE**\n",
    "\n",
    "| Feature        | BPE (GPT, LLaMA)             | WordPiece (BERT)                   |\n",
    "| -------------- | ---------------------------- | ---------------------------------- |\n",
    "| Merge strategy | Greedy frequency merges      | Maximizes likelihood of corpus     |\n",
    "| Token notation | Plain subwords (`lo`, `wer`) | Uses `##` prefix for continuations |\n",
    "| OOV handling   | Breaks into smaller subwords | `[UNK]` token for unknown pieces   |\n",
    "| Typical usage  | Autoregressive LMs (GPT)     | Masked LMs (BERT)                  |\n",
    "\n",
    "---\n",
    "\n",
    "## **Why WordPiece in BERT?**\n",
    "\n",
    "* BERT is **bidirectional** and used for **masked language modeling (MLM)**.\n",
    "* Needs good handling of rare words → `##ed`, `##ing`, `##tion`, etc.\n",
    "* `[UNK]` token acts as a fallback (though in practice, rare since subwords cover most words).\n",
    "\n",
    "---\n",
    "\n",
    "## **Example**\n",
    "\n",
    "Sentence:\n",
    "\n",
    "```\n",
    "\"playing football\"\n",
    "```\n",
    "\n",
    "WordPiece tokenization:\n",
    "\n",
    "```\n",
    "[\"play\", \"##ing\", \"football\"]\n",
    "```\n",
    "\n",
    "If `\"football\"` wasn’t in vocab, it might become:\n",
    "\n",
    "```\n",
    "[\"foot\", \"##ball\"]\n",
    "```\n",
    "\n",
    "---\n",
    "\n",
    "⚡ So, **WordPiece is like BPE but more probabilistic** — it tries to maximize the likelihood of seeing subwords rather than just merging the most frequent pairs.\n"
   ]
  },
  {
   "cell_type": "markdown",
   "id": "e669fb32",
   "metadata": {},
   "source": [
    "Awesome choice 👌 — let’s go deep into **Byte-Level Tokenization**, which is what GPT-2, GPT-3, and LLaMA rely on.\n",
    "\n",
    "---\n",
    "\n",
    "## **What is Byte-Level Tokenization?**\n",
    "\n",
    "* Instead of working with words, characters, or subwords directly,\n",
    "* Text is broken down into **raw bytes (0–255)** → every possible character, symbol, or emoji is covered.\n",
    "\n",
    "👉 This means the tokenizer can handle **any language, special symbols, punctuation, and even emojis** without OOV (Out-of-Vocabulary) issues.\n",
    "\n",
    "---\n",
    "\n",
    "## **How Byte-Level Tokenization Works**\n",
    "\n",
    "### **Step 1: Encode text as UTF-8 bytes**\n",
    "\n",
    "Example:\n",
    "Text → `\"Hello 😊\"`\n",
    "UTF-8 bytes:\n",
    "\n",
    "```\n",
    "H = 72\n",
    "e = 101\n",
    "l = 108\n",
    "l = 108\n",
    "o = 111\n",
    "(space) = 32\n",
    "😊 = 240, 159, 152, 138\n",
    "```\n",
    "\n",
    "So the text becomes a sequence of numbers:\n",
    "\n",
    "```\n",
    "[72, 101, 108, 108, 111, 32, 240, 159, 152, 138]\n",
    "```\n",
    "\n",
    "---\n",
    "\n",
    "### **Step 2: Apply Subword Algorithm on Bytes**\n",
    "\n",
    "* Once text is turned into bytes, we can apply a **subword algorithm** (like BPE).\n",
    "* Instead of merging character pairs, BPE now merges **byte pairs**.\n",
    "* Frequent byte sequences form new tokens.\n",
    "\n",
    "Example:\n",
    "\n",
    "* `\"lo\"` (`[108, 111]`) becomes a token.\n",
    "* `\"😊\"` (`[240, 159, 152, 138]`) becomes a single token.\n",
    "\n",
    "---\n",
    "\n",
    "### **Step 3: Vocabulary**\n",
    "\n",
    "* Start: 256 base tokens (0–255, all byte values).\n",
    "* Train: Merge frequent byte sequences until reaching target vocab size (e.g., 50,000).\n",
    "\n",
    "Result:\n",
    "\n",
    "* `\"the\"` might be a single token.\n",
    "* `\"ing\"` might be a single token.\n",
    "* `\"😊\"` might be a single token.\n",
    "* Rare words are broken into smaller byte-based pieces.\n",
    "\n",
    "---\n",
    "\n",
    "## **Why Byte-Level Tokenization?**\n",
    "\n",
    "### ✅ Advantages\n",
    "\n",
    "1. **Universal**: Works for any language, script, or emoji.\n",
    "2. **No OOV problem**: Any text can always be broken down into bytes.\n",
    "3. **Efficient**: Frequent words still become single tokens (through BPE merges).\n",
    "4. **Space Handling**: Even whitespace, tabs, newlines are tokens.\n",
    "\n",
    "### ❌ Disadvantages\n",
    "\n",
    "1. Longer sequences (since each unknown sequence is bytes first).\n",
    "2. Slightly more complex than word/subword methods.\n",
    "\n",
    "---\n",
    "\n",
    "## **Example**\n",
    "\n",
    "Let’s tokenize `\"unicorns 🦄\"`:\n",
    "\n",
    "1. Convert to bytes:\n",
    "   `\"u\"=117, \"n\"=110, \"i\"=105, \"c\"=99, \"o\"=111, \"r\"=114, \"n\"=110, \"s\"=115, \" \" = 32, \"🦄\" = [240, 159, 166, 132]`\n",
    "\n",
    "2. Apply BPE merges:\n",
    "\n",
    "   * `\"uni\"`, `\"corns\"`, `\"🦄\"`\n",
    "\n",
    "3. Final tokens:\n",
    "\n",
    "   ```\n",
    "   [\"uni\", \"corns\", \"🦄\"]\n",
    "   ```\n",
    "\n",
    "---\n",
    "\n",
    "## **Byte-Level in GPT-2 and GPT-3**\n",
    "\n",
    "* GPT-2 introduced **Byte-Level BPE**.\n",
    "* Process:\n",
    "\n",
    "  1. Encode text into bytes.\n",
    "  2. Apply BPE merges.\n",
    "  3. Build \\~50k vocab tokens.\n",
    "\n",
    "That’s why GPT-2/3 can handle:\n",
    "\n",
    "* Multilingual text (`日本語`, `हिंदी`)\n",
    "* Emojis (`😂👍`)\n",
    "* Special symbols (`∑, π, √`)\n",
    "\n",
    "All without retraining or special handling.\n",
    "\n",
    "---\n",
    "\n",
    "## **Byte-Level vs WordPiece vs BPE**\n",
    "\n",
    "| Method         | Handles Unknown Words    | Emoji Support | Languages                      | Used In             |\n",
    "| -------------- | ------------------------ | ------------- | ------------------------------ | ------------------- |\n",
    "| WordPiece      | `[UNK]` for OOV          | ❌             | Limited                        | BERT, ALBERT        |\n",
    "| Subword BPE    | Break into smaller parts | Limited       | Good for languages with spaces | GPT-1               |\n",
    "| Byte-Level BPE | Always possible (bytes)  | ✅             | Universal                      | GPT-2, GPT-3, LLaMA |\n",
    "\n",
    "---\n",
    "\n",
    "⚡ So, Byte-Level Tokenization is the reason GPT-family models don’t choke on weird inputs like `\"#@&😊💯🔥日本語\"`.\n",
    "\n"
   ]
  },
  {
   "cell_type": "code",
   "execution_count": 4,
   "id": "2b2698a5",
   "metadata": {},
   "outputs": [
    {
     "name": "stderr",
     "output_type": "stream",
     "text": [
      "/home/ahmad10raza/anaconda3/envs/livonia/lib/python3.11/site-packages/tqdm/auto.py:21: TqdmWarning: IProgress not found. Please update jupyter and ipywidgets. See https://ipywidgets.readthedocs.io/en/stable/user_install.html\n",
      "  from .autonotebook import tqdm as notebook_tqdm\n",
      "None of PyTorch, TensorFlow >= 2.0, or Flax have been found. Models won't be available and only tokenizers, configuration and file/data utilities can be used.\n"
     ]
    },
    {
     "name": "stdout",
     "output_type": "stream",
     "text": [
      "Token IDs: [15496, 995, 0, 50169, 233, 8582, 234, 235, 314, 1842, 9552, 12520, 97, 244]\n",
      "Decoded text: Hello world! 👋🌍 I love AI 🤖\n",
      "\n",
      "Tokens:\n",
      "Hello\n",
      "Ġworld\n",
      "!\n",
      "ĠðŁĳ\n",
      "ĭ\n",
      "ðŁ\n",
      "Į\n",
      "į\n",
      "ĠI\n",
      "Ġlove\n",
      "ĠAI\n",
      "ĠðŁ\n",
      "¤\n",
      "ĸ\n"
     ]
    }
   ],
   "source": [
    "from transformers import GPT2Tokenizer\n",
    "\n",
    "# Load pretrained GPT-2 tokenizer\n",
    "tokenizer = GPT2Tokenizer.from_pretrained(\"gpt2\")\n",
    "\n",
    "# Example text\n",
    "text = \"Hello world! 👋🌍 I love AI 🤖\"\n",
    "\n",
    "# Encode: text -> token IDs\n",
    "token_ids = tokenizer.encode(text)\n",
    "print(\"Token IDs:\", token_ids)\n",
    "\n",
    "# Decode: token IDs -> text\n",
    "decoded = tokenizer.decode(token_ids)\n",
    "print(\"Decoded text:\", decoded)\n",
    "\n",
    "# Show tokens with mapping\n",
    "tokens = tokenizer.convert_ids_to_tokens(token_ids)\n",
    "print(\"\\nTokens:\")\n",
    "for t in tokens:\n",
    "    print(t)\n"
   ]
  },
  {
   "cell_type": "markdown",
   "id": "6b0cda86",
   "metadata": {},
   "source": [
    "# Let's build own tokenizer"
   ]
  },
  {
   "cell_type": "code",
   "execution_count": 5,
   "id": "4d60ca93",
   "metadata": {},
   "outputs": [],
   "source": [
    "with open(\"the_verdict.txt\",'r',encoding='utf-8') as f:\n",
    "    raw_text = f.read()"
   ]
  },
  {
   "cell_type": "code",
   "execution_count": 6,
   "id": "22b1e204",
   "metadata": {},
   "outputs": [
    {
     "data": {
      "text/plain": [
       "'I HAD always thought Jack Gisburn rather a cheap genius--though a good fellow enough--so it was no great surprise to me to hear that, in the height of his glory, he had dropped his painting, married a rich widow, and established himself in a villa on the Riviera. (Though I rather thought it would have been Rome or Florence.)\\n\\n\"The height of his glory\"--that was what the women called it. I can hear Mrs. Gideon Thwing--his last Chicago sitter--deploring his unaccountable abdication. \"Of course it\\'s going to send the value of my picture \\'way up; but I don\\'t think of that, Mr. Rickham--the loss to Arrt is all I think of.\" The word, on Mrs. Thwing\\'s lips, multiplied its _rs_ as though they were reflected in an endless vista of mirrors. And it was not only the Mrs. Thwings who mourned. Had not the exquisite Hermia Croft, at the last Grafton Gallery show, stopped me before Gisburn\\'s \"Moon-dancers\" to say, with tears in her eyes: \"We shall not look upon its like again\"?\\n\\nWell!--even through the prism of Hermia\\'s tears I felt able to face the fact with equanimity. Poor Jack Gisburn! The women had made him--it was fitting that they should mourn him. Among his own sex fewer regrets were heard, and in his own trade hardly a murmur. Professional jealousy? Perhaps. If it were, the honour of the craft was vindicated by little Claude Nutley, who, in all good faith, brought out in the Burlington a very handsome \"obituary\" on Jack--one of those showy articles stocked with random technicalities that I have heard (I won\\'t say by whom) compared to Gisburn\\'s painting. And so--his resolve being apparently irrevocable--the discussion gradually died out, and, as Mrs. Thwing had predicted, the price of \"Gisburns\" went up.\\n\\nIt was not till three years later that, in the course of a few weeks\\' idling on the Riviera, it suddenly occurred to me to wonder why Gisburn had given up his painting. On reflection, it really was a tempting problem. To accuse his wife would have been too easy--his fair sitters had been denied the solace of saying that Mrs. Gisburn had \"dragged him down.\" For Mrs. Gisburn--as such--had not existed till nearly a year after Jack\\'s resolve had been taken. It might be that he had married her--since he liked his ease--because he didn\\'t want to go on painting; but it would have been hard to prove that he had given up his painting because he had married her.\\n\\nOf course, if she had not dragged him down, she had equally, as Miss Croft contended, failed to \"lift him up\"--she had not led him back to the easel. To put the brush into his hand again--what a vocation for a wife! But Mrs. Gisburn appeared to have disdained it--and I felt it might be interesting to find out why.\\n\\nThe desultory life of the Riviera lends itself to such purely academic speculations; and having, on my way to Monte Carlo, caught a glimpse of Jack\\'s balustraded terraces between the pines, I had myself borne thither the next day.\\n\\nI found the couple at tea beneath their palm-trees; and Mrs. Gisburn\\'s welcome was so genial that, in the ensuing weeks, I claimed it frequently. It was not that my hostess was \"interesting\": on that point I could have given Miss Croft the fullest reassurance. It was just because she was _not_ interesting--if I may be pardoned the bull--that I found her so. For Jack, all his life, had been surrounded by interesting women: they had fostered his art, it had been reared in the hot-house of their adulation. And it was therefore instructive to note what effect the \"deadening atmosphere of mediocrity\" (I quote Miss Croft) was having on him.\\n\\nI have mentioned that Mrs. Gisburn was rich; and it was immediately perceptible that her husband was extracting from this circumstance a delicate but substantial satisfaction. It is, as a rule, the people who scorn money who get most out of it; and Jack\\'s elegant disdain of his wife\\'s big balance enabled him, with an appearance of perfect good-breeding, to transmute it into objects of art and luxury. To the latter, I must add, he remained relatively indifferent; but he was buying Renaissance bronzes and eighteenth-century pictures with a discrimination that bespoke the amplest resources.\\n\\n\"Money\\'s only excuse is to put beauty into circulation,\" was one of the axioms he laid down across the Sevres and silver of an exquisitely appointed luncheon-table, when, on a later day, I had again run over from Monte Carlo; and Mrs. Gisburn, beaming on him, added for my enlightenment: \"Jack is so morbidly sensitive to every form of beauty.\"\\n\\nPoor Jack! It had always been his fate to have women say such things of him: the fact should be set down in extenuation. What struck me now was that, for the first time, he resented the tone. I had seen him, so often, basking under similar tributes--was it the conjugal note that robbed them of their savour? No--for, oddly enough, it became apparent that he was fond of Mrs. Gisburn--fond enough not to see her absurdity. It was his own absurdity he seemed to be wincing under--his own attitude as an object for garlands and incense.\\n\\n\"My dear, since I\\'ve chucked painting people don\\'t say that stuff about me--they say it about Victor Grindle,\" was his only protest, as he rose from the table and strolled out onto the sunlit terrace.\\n\\nI glanced after him, struck by his last word. Victor Grindle was, in fact, becoming the man of the moment--as Jack himself, one might put it, had been the man of the hour. The younger artist was said to have formed himself at my friend\\'s feet, and I wondered if a tinge of jealousy underlay the latter\\'s mysterious abdication. But no--for it was not till after that event that the _rose Dubarry_ drawing-rooms had begun to display their \"Grindles.\"\\n\\nI turned to Mrs. Gisburn, who had lingered to give a lump of sugar to her spaniel in the dining-room.\\n\\n\"Why _has_ he chucked painting?\" I asked abruptly.\\n\\nShe raised her eyebrows with a hint of good-humoured surprise.\\n\\n\"Oh, he doesn\\'t _have_ to now, you know; and I want him to enjoy himself,\" she said quite simply.\\n\\nI looked about the spacious white-panelled room, with its _famille-verte_ vases repeating the tones of the pale damask curtains, and its eighteenth-century pastels in delicate faded frames.\\n\\n\"Has he chucked his pictures too? I haven\\'t seen a single one in the house.\"\\n\\nA slight shade of constraint crossed Mrs. Gisburn\\'s open countenance. \"It\\'s his ridiculous modesty, you know. He says they\\'re not fit to have about; he\\'s sent them all away except one--my portrait--and that I have to keep upstairs.\"\\n\\nHis ridiculous modesty--Jack\\'s modesty about his pictures? My curiosity was growing like the bean-stalk. I said persuasively to my hostess: \"I must really see your portrait, you know.\"\\n\\nShe glanced out almost timorously at the terrace where her husband, lounging in a hooded chair, had lit a cigar and drawn the Russian deerhound\\'s head between his knees.\\n\\n\"Well, come while he\\'s not looking,\" she said, with a laugh that tried to hide her nervousness; and I followed her between the marble Emperors of the hall, and up the wide stairs with terra-cotta nymphs poised among flowers at each landing.\\n\\nIn the dimmest corner of her boudoir, amid a profusion of delicate and distinguished objects, hung one of the familiar oval canvases, in the inevitable garlanded frame. The mere outline of the frame called up all Gisburn\\'s past!\\n\\nMrs. Gisburn drew back the window-curtains, moved aside a _jardiniere_ full of pink azaleas, pushed an arm-chair away, and said: \"If you stand here you can just manage to see it. I had it over the mantel-piece, but he wouldn\\'t let it stay.\"\\n\\nYes--I could just manage to see it--the first portrait of Jack\\'s I had ever had to strain my eyes over! Usually they had the place of honour--say the central panel in a pale yellow or _rose Dubarry_ drawing-room, or a monumental easel placed so that it took the light through curtains of old Venetian point. The more modest place became the picture better; yet, as my eyes grew accustomed to the half-light, all the characteristic qualities came out--all the hesitations disguised as audacities, the tricks of prestidigitation by which, with such consummate skill, he managed to divert attention from the real business of the picture to some pretty irrelevance of detail. Mrs. Gisburn, presenting a neutral surface to work on--forming, as it were, so inevitably the background of her own picture--had lent herself in an unusual degree to the display of this false virtuosity. The picture was one of Jack\\'s \"strongest,\" as his admirers would have put it--it represented, on his part, a swelling of muscles, a congesting of veins, a balancing, straddling and straining, that reminded one of the circus-clown\\'s ironic efforts to lift a feather. It met, in short, at every point the demand of lovely woman to be painted \"strongly\" because she was tired of being painted \"sweetly\"--and yet not to lose an atom of the sweetness.\\n\\n\"It\\'s the last he painted, you know,\" Mrs. Gisburn said with pardonable pride. \"The last but one,\" she corrected herself--\"but the other doesn\\'t count, because he destroyed it.\"\\n\\n\"Destroyed it?\" I was about to follow up this clue when I heard a footstep and saw Jack himself on the threshold.\\n\\nAs he stood there, his hands in the pockets of his velveteen coat, the thin brown waves of hair pushed back from his white forehead, his lean sunburnt cheeks furrowed by a smile that lifted the tips of a self-confident moustache, I felt to what a degree he had the same quality as his pictures--the quality of looking cleverer than he was.\\n\\nHis wife glanced at him deprecatingly, but his eyes travelled past her to the portrait.\\n\\n\"Mr. Rickham wanted to see it,\" she began, as if excusing herself. He shrugged his shoulders, still smiling.\\n\\n\"Oh, Rickham found me out long ago,\" he said lightly; then, passing his arm through mine: \"Come and see the rest of the house.\"\\n\\nHe showed it to me with a kind of naive suburban pride: the bath-rooms, the speaking-tubes, the dress-closets, the trouser-presses--all the complex simplifications of the millionaire\\'s domestic economy. And whenever my wonder paid the expected tribute he said, throwing out his chest a little: \"Yes, I really don\\'t see how people manage to live without that.\"\\n\\nWell--it was just the end one might have foreseen for him. Only he was, through it all and in spite of it all--as he had been through, and in spite of, his pictures--so handsome, so charming, so disarming, that one longed to cry out: \"Be dissatisfied with your leisure!\" as once one had longed to say: \"Be dissatisfied with your work!\"\\n\\nBut, with the cry on my lips, my diagnosis suffered an unexpected check.\\n\\n\"This is my own lair,\" he said, leading me into a dark plain room at the end of the florid vista. It was square and brown and leathery: no \"effects\"; no bric-a-brac, none of the air of posing for reproduction in a picture weekly--above all, no least sign of ever having been used as a studio.\\n\\nThe fact brought home to me the absolute finality of Jack\\'s break with his old life.\\n\\n\"Don\\'t you ever dabble with paint any more?\" I asked, still looking about for a trace of such activity.\\n\\n\"Never,\" he said briefly.\\n\\n\"Or water-colour--or etching?\"\\n\\nHis confident eyes grew dim, and his cheeks paled a little under their handsome sunburn.\\n\\n\"Never think of it, my dear fellow--any more than if I\\'d never touched a brush.\"\\n\\nAnd his tone told me in a flash that he never thought of anything else.\\n\\nI moved away, instinctively embarrassed by my unexpected discovery; and as I turned, my eye fell on a small picture above the mantel-piece--the only object breaking the plain oak panelling of the room.\\n\\n\"Oh, by Jove!\" I said.\\n\\nIt was a sketch of a donkey--an old tired donkey, standing in the rain under a wall.\\n\\n\"By Jove--a Stroud!\" I cried.\\n\\nHe was silent; but I felt him close behind me, breathing a little quickly.\\n\\n\"What a wonder! Made with a dozen lines--but on everlasting foundations. You lucky chap, where did you get it?\"\\n\\nHe answered slowly: \"Mrs. Stroud gave it to me.\"\\n\\n\"Ah--I didn\\'t know you even knew the Strouds. He was such an inflexible hermit.\"\\n\\n\"I didn\\'t--till after. . . . She sent for me to paint him when he was dead.\"\\n\\n\"When he was dead? You?\"\\n\\nI must have let a little too much amazement escape through my surprise, for he answered with a deprecating laugh: \"Yes--she\\'s an awful simpleton, you know, Mrs. Stroud. Her only idea was to have him done by a fashionable painter--ah, poor Stroud! She thought it the surest way of proclaiming his greatness--of forcing it on a purblind public. And at the moment I was _the_ fashionable painter.\"\\n\\n\"Ah, poor Stroud--as you say. Was _that_ his history?\"\\n\\n\"That was his history. She believed in him, gloried in him--or thought she did. But she couldn\\'t bear not to have all the drawing-rooms with her. She couldn\\'t bear the fact that, on varnishing days, one could always get near enough to see his pictures. Poor woman! She\\'s just a fragment groping for other fragments. Stroud is the only whole I ever knew.\"\\n\\n\"You ever knew? But you just said--\"\\n\\nGisburn had a curious smile in his eyes.\\n\\n\"Oh, I knew him, and he knew me--only it happened after he was dead.\"\\n\\nI dropped my voice instinctively. \"When she sent for you?\"\\n\\n\"Yes--quite insensible to the irony. She wanted him vindicated--and by me!\"\\n\\nHe laughed again, and threw back his head to look up at the sketch of the donkey. \"There were days when I couldn\\'t look at that thing--couldn\\'t face it. But I forced myself to put it here; and now it\\'s cured me--cured me. That\\'s the reason why I don\\'t dabble any more, my dear Rickham; or rather Stroud himself is the reason.\"\\n\\nFor the first time my idle curiosity about my companion turned into a serious desire to understand him better.\\n\\n\"I wish you\\'d tell me how it happened,\" I said.\\n\\nHe stood looking up at the sketch, and twirling between his fingers a cigarette he had forgotten to light. Suddenly he turned toward me.\\n\\n\"I\\'d rather like to tell you--because I\\'ve always suspected you of loathing my work.\"\\n\\nI made a deprecating gesture, which he negatived with a good-humoured shrug.\\n\\n\"Oh, I didn\\'t care a straw when I believed in myself--and now it\\'s an added tie between us!\"\\n\\nHe laughed slightly, without bitterness, and pushed one of the deep arm-chairs forward. \"There: make yourself comfortable--and here are the cigars you like.\"\\n\\nHe placed them at my elbow and continued to wander up and down the room, stopping now and then beneath the picture.\\n\\n\"How it happened? I can tell you in five minutes--and it didn\\'t take much longer to happen. . . . I can remember now how surprised and pleased I was when I got Mrs. Stroud\\'s note. Of course, deep down, I had always _felt_ there was no one like him--only I had gone with the stream, echoed the usual platitudes about him, till I half got to think he was a failure, one of the kind that are left behind. By Jove, and he _was_ left behind--because he had come to stay! The rest of us had to let ourselves be swept along or go under, but he was high above the current--on everlasting foundations, as you say.\\n\\n\"Well, I went off to the house in my most egregious mood--rather moved, Lord forgive me, at the pathos of poor Stroud\\'s career of failure being crowned by the glory of my painting him! Of course I meant to do the picture for nothing--I told Mrs. Stroud so when she began to stammer something about her poverty. I remember getting off a prodigious phrase about the honour being _mine_--oh, I was princely, my dear Rickham! I was posing to myself like one of my own sitters.\\n\\n\"Then I was taken up and left alone with him. I had sent all my traps in advance, and I had only to set up the easel and get to work. He had been dead only twenty-four hours, and he died suddenly, of heart disease, so that there had been no preliminary work of destruction--his face was clear and untouched. I had met him once or twice, years before, and thought him insignificant and dingy. Now I saw that he was superb.\\n\\n\"I was glad at first, with a merely aesthetic satisfaction: glad to have my hand on such a \\'subject.\\' Then his strange life-likeness began to affect me queerly--as I blocked the head in I felt as if he were watching me do it. The sensation was followed by the thought: if he _were_ watching me, what would he say to my way of working? My strokes began to go a little wild--I felt nervous and uncertain.\\n\\n\"Once, when I looked up, I seemed to see a smile behind his close grayish beard--as if he had the secret, and were amusing himself by holding it back from me. That exasperated me still more. The secret? Why, I had a secret worth twenty of his! I dashed at the canvas furiously, and tried some of my bravura tricks. But they failed me, they crumbled. I saw that he wasn\\'t watching the showy bits--I couldn\\'t distract his attention; he just kept his eyes on the hard passages between. Those were the ones I had always shirked, or covered up with some lying paint. And how he saw through my lies!\\n\\n\"I looked up again, and caught sight of that sketch of the donkey hanging on the wall near his bed. His wife told me afterward it was the last thing he had done--just a note taken with a shaking hand, when he was down in Devonshire recovering from a previous heart attack. Just a note! But it tells his whole history. There are years of patient scornful persistence in every line. A man who had swum with the current could never have learned that mighty up-stream stroke. . . .\\n\\n\"I turned back to my work, and went on groping and muddling; then I looked at the donkey again. I saw that, when Stroud laid in the first stroke, he knew just what the end would be. He had possessed his subject, absorbed it, recreated it. When had I done that with any of my things? They hadn\\'t been born of me--I had just adopted them. . . .\\n\\n\"Hang it, Rickham, with that face watching me I couldn\\'t do another stroke. The plain truth was, I didn\\'t know where to put it--_I had never known_. Only, with my sitters and my public, a showy splash of colour covered up the fact--I just threw paint into their faces. . . . Well, paint was the one medium those dead eyes could see through--see straight to the tottering foundations underneath. Don\\'t you know how, in talking a foreign language, even fluently, one says half the time not what one wants to but what one can? Well--that was the way I painted; and as he lay there and watched me, the thing they called my \\'technique\\' collapsed like a house of cards. He didn\\'t sneer, you understand, poor Stroud--he just lay there quietly watching, and on his lips, through the gray beard, I seemed to hear the question: \\'Are you sure you know where you\\'re coming out?\\'\\n\\n\"If I could have painted that face, with that question on it, I should have done a great thing. The next greatest thing was to see that I couldn\\'t--and that grace was given me. But, oh, at that minute, Rickham, was there anything on earth I wouldn\\'t have given to have Stroud alive before me, and to hear him say: \\'It\\'s not too late--I\\'ll show you how\\'?\\n\\n\"It _was_ too late--it would have been, even if he\\'d been alive. I packed up my traps, and went down and told Mrs. Stroud. Of course I didn\\'t tell her _that_--it would have been Greek to her. I simply said I couldn\\'t paint him, that I was too moved. She rather liked the idea--she\\'s so romantic! It was that that made her give me the donkey. But she was terribly upset at not getting the portrait--she did so want him \\'done\\' by some one showy! At first I was afraid she wouldn\\'t let me off--and at my wits\\' end I suggested Grindle. Yes, it was I who started Grindle: I told Mrs. Stroud he was the \\'coming\\' man, and she told somebody else, and so it got to be true. . . . And he painted Stroud without wincing; and she hung the picture among her husband\\'s things. . . .\"\\n\\nHe flung himself down in the arm-chair near mine, laid back his head, and clasping his arms beneath it, looked up at the picture above the chimney-piece.\\n\\n\"I like to fancy that Stroud himself would have given it to me, if he\\'d been able to say what he thought that day.\"\\n\\nAnd, in answer to a question I put half-mechanically--\"Begin again?\" he flashed out. \"When the one thing that brings me anywhere near him is that I knew enough to leave off?\"\\n\\nHe stood up and laid his hand on my shoulder with a laugh. \"Only the irony of it is that I _am_ still painting--since Grindle\\'s doing it for me! The Strouds stand alone, and happen once--but there\\'s no exterminating our kind of art.\"'"
      ]
     },
     "execution_count": 6,
     "metadata": {},
     "output_type": "execute_result"
    }
   ],
   "source": [
    "raw_text"
   ]
  },
  {
   "cell_type": "code",
   "execution_count": 7,
   "id": "fbac77ce",
   "metadata": {},
   "outputs": [
    {
     "name": "stdout",
     "output_type": "stream",
     "text": [
      "Total number of charcter : 20479\n"
     ]
    }
   ],
   "source": [
    "print(\"Total number of charcter :\", len(raw_text))"
   ]
  },
  {
   "cell_type": "markdown",
   "id": "f3d747de",
   "metadata": {},
   "source": [
    "<div class=\"alert alert-block alert-success\">\n",
    "\n",
    "Our goal is to tokenize this 20,479-character short story into individual words and special\n",
    "characters that we can then turn into embeddings for LLM training  </div>"
   ]
  },
  {
   "cell_type": "markdown",
   "id": "9c821d06",
   "metadata": {},
   "source": [
    "<div class=\"alert alert-block alert-success\">\n",
    "\n",
    "How can we best split this text to obtain a list of tokens? For this, we go on a small\n",
    "excursion and use Python's regular expression library re for illustration purposes. (Note\n",
    "that you don't have to learn or memorize any regular expression syntax since we will\n",
    "transition to a pre-built tokenizer later in this chapter.) </div>"
   ]
  },
  {
   "cell_type": "code",
   "execution_count": 8,
   "id": "d78c19d3",
   "metadata": {},
   "outputs": [
    {
     "name": "stdout",
     "output_type": "stream",
     "text": [
      "['Hello,', ' ', \"I'm\", ' ', 'Tesla.', ' ', 'Speking', ' ', 'from', ' ', 'past', ' ', 'telling', ' ', 'you', ' ', 'about', ' ', 'future!']\n"
     ]
    }
   ],
   "source": [
    "import re\n",
    "\n",
    "text = \"Hello, I'm Tesla. Speking from past telling you about future!\"\n",
    "res = re.split(r'(\\s)',text)\n",
    "\n",
    "print(res)"
   ]
  },
  {
   "cell_type": "code",
   "execution_count": 9,
   "id": "310fa80c",
   "metadata": {},
   "outputs": [
    {
     "name": "stdout",
     "output_type": "stream",
     "text": [
      "Hello,\n",
      " \n",
      "I'm\n",
      " \n",
      "Tesla.\n",
      " \n",
      "Speking\n",
      " \n",
      "from\n",
      " \n",
      "past\n",
      " \n",
      "telling\n",
      " \n",
      "you\n",
      " \n",
      "about\n",
      " \n",
      "future!\n"
     ]
    }
   ],
   "source": [
    "for r in res:\n",
    "    print(r)"
   ]
  },
  {
   "cell_type": "markdown",
   "id": "69b73a2b",
   "metadata": {},
   "source": [
    "<div class=\"alert alert-block alert-warning\">\n",
    "\n",
    "Let's modify the regular expression splits on whitespaces (\\s) and commas, and periods\n",
    "([,.]):</div>"
   ]
  },
  {
   "cell_type": "code",
   "execution_count": 10,
   "id": "b5340029",
   "metadata": {},
   "outputs": [
    {
     "name": "stdout",
     "output_type": "stream",
     "text": [
      "['Hello', ',', '', ' ', \"I'm\", ' ', 'Tesla', '.', '', ' ', 'Speking', ' ', 'from', ' ', 'past', ' ', 'telling', ' ', 'you', ' ', 'about', ' ', 'future!']\n"
     ]
    }
   ],
   "source": [
    "res = re.split(r'([,.]|\\s)',text)\n",
    "\n",
    "print(res)"
   ]
  },
  {
   "cell_type": "markdown",
   "id": "8fa5a0d6",
   "metadata": {},
   "source": [
    "<div class=\"alert alert-block alert-warning\">\n",
    "\n",
    "A small remaining issue is that the list still includes whitespace characters. Optionally, we\n",
    "can remove these redundant characters safely as follows:</div>"
   ]
  },
  {
   "cell_type": "code",
   "execution_count": 11,
   "id": "608dcb05",
   "metadata": {},
   "outputs": [
    {
     "name": "stdout",
     "output_type": "stream",
     "text": [
      "['Hello', ',', \"I'm\", 'Tesla', '.', 'Speking', 'from', 'past', 'telling', 'you', 'about', 'future!']\n"
     ]
    }
   ],
   "source": [
    "res = [item for item in res if item.strip()]\n",
    "print(res)"
   ]
  },
  {
   "cell_type": "markdown",
   "id": "25c24486",
   "metadata": {},
   "source": [
    "<div class=\"alert alert-block alert-success\">\n",
    "\n",
    "REMOVING WHITESPACES OR NOT\n",
    "\n",
    "\n",
    "When developing a simple tokenizer, whether we should encode whitespaces as\n",
    "separate characters or just remove them depends on our application and its\n",
    "requirements. Removing whitespaces reduces the memory and computing\n",
    "requirements. However, keeping whitespaces can be useful if we train models that\n",
    "are sensitive to the exact structure of the text (for example, Python code, which is\n",
    "sensitive to indentation and spacing). Here, we remove whitespaces for simplicity\n",
    "and brevity of the tokenized outputs. Later, we will switch to a tokenization scheme\n",
    "that includes whitespaces.\n",
    "\n",
    "</div>"
   ]
  },
  {
   "cell_type": "code",
   "execution_count": 12,
   "id": "4debde35",
   "metadata": {},
   "outputs": [
    {
     "name": "stdout",
     "output_type": "stream",
     "text": [
      "['Hello', ',', 'world', '.', 'Is', 'this', '--', 'a', 'test', '?']\n"
     ]
    }
   ],
   "source": [
    "text = \"Hello, world. Is this-- a test?\"\n",
    "result = re.split(r'([,.:;?_!\"()\\']|--|\\s)', text)\n",
    "result = [item.strip() for item in result if item.strip()]\n",
    "print(result)"
   ]
  },
  {
   "cell_type": "code",
   "execution_count": 13,
   "id": "1ec1900b",
   "metadata": {},
   "outputs": [
    {
     "name": "stdout",
     "output_type": "stream",
     "text": [
      "['Hello', ',', 'world', '.', 'Is', 'this', '--', 'a', 'test', '?']\n"
     ]
    }
   ],
   "source": [
    "# Strip whitespace from each item and then filter out any empty strings.\n",
    "result = [item for item in result if item.strip()]\n",
    "print(result)"
   ]
  },
  {
   "cell_type": "code",
   "execution_count": 14,
   "id": "57b9c0d7",
   "metadata": {},
   "outputs": [
    {
     "name": "stdout",
     "output_type": "stream",
     "text": [
      "['I', 'HAD', 'always', 'thought', 'Jack', 'Gisburn', 'rather', 'a', 'cheap', 'genius', '--', 'though', 'a', 'good', 'fellow', 'enough', '--', 'so', 'it', 'was', 'no', 'great', 'surprise', 'to', 'me', 'to', 'hear', 'that', ',', 'in', 'the', 'height', 'of', 'his', 'glory', ',', 'he', 'had', 'dropped', 'his']\n"
     ]
    }
   ],
   "source": [
    "preprocessed = re.split(r'([,.:;?_!\\']|--|\\s)',raw_text)\n",
    "preprocessed = [item.strip() for item in preprocessed if item.strip()]\n",
    "print(preprocessed[:40])"
   ]
  },
  {
   "cell_type": "code",
   "execution_count": 15,
   "id": "3dd801ab",
   "metadata": {},
   "outputs": [
    {
     "name": "stdout",
     "output_type": "stream",
     "text": [
      "4601\n"
     ]
    }
   ],
   "source": [
    "print(len(preprocessed))"
   ]
  },
  {
   "cell_type": "markdown",
   "id": "ab225b85",
   "metadata": {},
   "source": [
    "## Step 2 creating token id"
   ]
  },
  {
   "cell_type": "code",
   "execution_count": 16,
   "id": "bb8ddcef",
   "metadata": {},
   "outputs": [
    {
     "name": "stdout",
     "output_type": "stream",
     "text": [
      "1159\n"
     ]
    }
   ],
   "source": [
    "all_word = sorted(set(preprocessed))\n",
    "vocab_size = len(all_word)\n",
    "\n",
    "print(vocab_size)"
   ]
  },
  {
   "cell_type": "code",
   "execution_count": 17,
   "id": "6c7041bd",
   "metadata": {},
   "outputs": [
    {
     "data": {
      "text/plain": [
       "'!'"
      ]
     },
     "execution_count": 17,
     "metadata": {},
     "output_type": "execute_result"
    }
   ],
   "source": [
    "all_word[0]"
   ]
  },
  {
   "cell_type": "markdown",
   "id": "c395a7ba",
   "metadata": {},
   "source": [
    "<div class=\"alert alert-block alert-success\">\n",
    "\n",
    "After determining that the vocabulary size is 1,159 via the above code, we create the\n",
    "vocabulary and print its first 51 entries for illustration purposes:\n",
    "\n",
    "</div>"
   ]
  },
  {
   "cell_type": "code",
   "execution_count": 18,
   "id": "c073463e",
   "metadata": {},
   "outputs": [],
   "source": [
    "vocab = {token:integer for integer,token in enumerate(all_word)}"
   ]
  },
  {
   "cell_type": "code",
   "execution_count": 19,
   "id": "aca9dcc6",
   "metadata": {},
   "outputs": [
    {
     "name": "stdout",
     "output_type": "stream",
     "text": [
      "('!', 0)\n",
      "('\"', 1)\n",
      "('\"Ah', 2)\n",
      "('\"Be', 3)\n",
      "('\"Begin', 4)\n",
      "('\"By', 5)\n",
      "('\"Come', 6)\n",
      "('\"Destroyed', 7)\n",
      "('\"Don', 8)\n",
      "('\"Gisburns\"', 9)\n",
      "('\"Grindles', 10)\n",
      "('\"Hang', 11)\n",
      "('\"Has', 12)\n",
      "('\"How', 13)\n",
      "('\"I', 14)\n",
      "('\"If', 15)\n",
      "('\"It', 16)\n",
      "('\"Jack', 17)\n",
      "('\"Money', 18)\n",
      "('\"Moon-dancers\"', 19)\n",
      "('\"Mr', 20)\n",
      "('\"Mrs', 21)\n",
      "('\"My', 22)\n",
      "('\"Never', 23)\n",
      "('\"Of', 24)\n",
      "('\"Oh', 25)\n",
      "('\"Once', 26)\n",
      "('\"Only', 27)\n",
      "('\"Or', 28)\n",
      "('\"That', 29)\n",
      "('\"The', 30)\n",
      "('\"Then', 31)\n",
      "('\"There', 32)\n",
      "('\"This', 33)\n",
      "('\"We', 34)\n",
      "('\"Well', 35)\n",
      "('\"What', 36)\n",
      "('\"When', 37)\n",
      "('\"Why', 38)\n",
      "('\"Yes', 39)\n",
      "('\"You', 40)\n",
      "('\"but', 41)\n",
      "('\"deadening', 42)\n",
      "('\"dragged', 43)\n",
      "('\"effects\"', 44)\n",
      "('\"interesting\"', 45)\n",
      "('\"lift', 46)\n",
      "('\"obituary\"', 47)\n",
      "('\"strongest', 48)\n",
      "('\"strongly\"', 49)\n",
      "('\"sweetly\"', 50)\n"
     ]
    }
   ],
   "source": [
    "for i, token in enumerate(vocab.items()):\n",
    "    print(token)\n",
    "    \n",
    "    if i >= 50:\n",
    "        break"
   ]
  },
  {
   "cell_type": "markdown",
   "id": "fb39ee6e",
   "metadata": {},
   "source": [
    "<div class=\"alert alert-block alert-success\">\n",
    "\n",
    "Let's implement a complete tokenizer class in Python.\n",
    "\n",
    "The class will have an encode method that splits\n",
    "text into tokens and carries out the string-to-integer mapping to produce token IDs via the\n",
    "vocabulary. \n",
    "\n",
    "In addition, we implement a decode method that carries out the reverse\n",
    "integer-to-string mapping to convert the token IDs back into text.\n",
    "\n",
    "</div>"
   ]
  },
  {
   "cell_type": "markdown",
   "id": "4d527cc8",
   "metadata": {},
   "source": [
    "<div class=\"alert alert-block alert-info\">\n",
    "    \n",
    "Step 1: Store the vocabulary as a class attribute for access in the encode and decode methods\n",
    "    \n",
    "Step 2: Create an inverse vocabulary that maps token IDs back to the original text tokens\n",
    "\n",
    "Step 3: Process input text into token IDs\n",
    "\n",
    "Step 4: Convert token IDs back into text\n",
    "\n",
    "Step 5: Replace spaces before the specified punctuation\n",
    "\n",
    "</div>\n",
    "\n"
   ]
  },
  {
   "cell_type": "code",
   "execution_count": 20,
   "id": "c1e79d1c",
   "metadata": {},
   "outputs": [],
   "source": [
    "import re\n",
    "class SimpleTokenizerV1:\n",
    "    def __init__(self,vocab):\n",
    "        self.str_to_int = vocab\n",
    "        self.int_to_str = {i:s for s,i in vocab.items()}\n",
    "        \n",
    "    def encode(self,text):\n",
    "        preprocessed = re.split(r'([,.:;?_!\"()\\']|--|\\s)',text)\n",
    "        \n",
    "        preprocessed = [item.strip() for  item in preprocessed if item.strip()]\n",
    "        \n",
    "        ids = [self.str_to_int[s] for s in preprocessed]\n",
    "        \n",
    "        return ids\n",
    "    \n",
    "    def decode(self,ids):\n",
    "        text = \" \".join([self.int_to_str[i] for i in ids])\n",
    "        text = re.sub(r'\\s+([,.?!\"()\\'])', r'\\1', text)\n",
    "        return text"
   ]
  },
  {
   "cell_type": "code",
   "execution_count": 21,
   "id": "219af829",
   "metadata": {},
   "outputs": [
    {
     "name": "stdout",
     "output_type": "stream",
     "text": [
      "[1, 97, 51, 881, 1016, 634, 565, 777, 55, 1155, 628, 55, 1, 106, 57, 84, 882, 1137, 785, 824, 57]\n"
     ]
    }
   ],
   "source": [
    "tokenizer = SimpleTokenizerV1(vocab)\n",
    "\n",
    "text = \"\"\"\"It's the last he painted, you know,\" \n",
    "           Mrs. Gisburn said with pardonable pride.\"\"\"\n",
    "ids = tokenizer.encode(text)\n",
    "print(ids)"
   ]
  },
  {
   "cell_type": "code",
   "execution_count": 22,
   "id": "08ee3de7",
   "metadata": {},
   "outputs": [
    {
     "data": {
      "text/plain": [
       "'\" It\\' s the last he painted, you know,\" Mrs. Gisburn said with pardonable pride.'"
      ]
     },
     "execution_count": 22,
     "metadata": {},
     "output_type": "execute_result"
    }
   ],
   "source": [
    "tokenizer.decode(ids)"
   ]
  },
  {
   "cell_type": "markdown",
   "id": "78cd2c93",
   "metadata": {},
   "source": [
    "<div class=\"alert alert-block alert-success\">\n",
    "\n",
    "So far, so good. We implemented a tokenizer capable of tokenizing and de-tokenizing\n",
    "text based on a snippet from the training set. \n",
    "\n",
    "Let's now apply it to a new text sample that\n",
    "is not contained in the training set:\n",
    "</div>"
   ]
  },
  {
   "cell_type": "code",
   "execution_count": 23,
   "id": "5c9df1ad",
   "metadata": {},
   "outputs": [
    {
     "ename": "KeyError",
     "evalue": "'Hello'",
     "output_type": "error",
     "traceback": [
      "\u001b[31m---------------------------------------------------------------------------\u001b[39m",
      "\u001b[31mKeyError\u001b[39m                                  Traceback (most recent call last)",
      "\u001b[36mCell\u001b[39m\u001b[36m \u001b[39m\u001b[32mIn[23]\u001b[39m\u001b[32m, line 2\u001b[39m\n\u001b[32m      1\u001b[39m text = \u001b[33m\"\u001b[39m\u001b[33mHello, do you like tea?\u001b[39m\u001b[33m\"\u001b[39m\n\u001b[32m----> \u001b[39m\u001b[32m2\u001b[39m \u001b[38;5;28mprint\u001b[39m(\u001b[43mtokenizer\u001b[49m\u001b[43m.\u001b[49m\u001b[43mencode\u001b[49m\u001b[43m(\u001b[49m\u001b[43mtext\u001b[49m\u001b[43m)\u001b[49m)\n",
      "\u001b[36mCell\u001b[39m\u001b[36m \u001b[39m\u001b[32mIn[20]\u001b[39m\u001b[32m, line 12\u001b[39m, in \u001b[36mSimpleTokenizerV1.encode\u001b[39m\u001b[34m(self, text)\u001b[39m\n\u001b[32m      8\u001b[39m preprocessed = re.split(\u001b[33mr\u001b[39m\u001b[33m'\u001b[39m\u001b[33m([,.:;?_!\u001b[39m\u001b[33m\"\u001b[39m\u001b[33m()\u001b[39m\u001b[38;5;130;01m\\'\u001b[39;00m\u001b[33m]|--|\u001b[39m\u001b[33m\\\u001b[39m\u001b[33ms)\u001b[39m\u001b[33m'\u001b[39m,text)\n\u001b[32m     10\u001b[39m preprocessed = [item.strip() \u001b[38;5;28;01mfor\u001b[39;00m  item \u001b[38;5;129;01min\u001b[39;00m preprocessed \u001b[38;5;28;01mif\u001b[39;00m item.strip()]\n\u001b[32m---> \u001b[39m\u001b[32m12\u001b[39m ids = \u001b[43m[\u001b[49m\u001b[38;5;28;43mself\u001b[39;49m\u001b[43m.\u001b[49m\u001b[43mstr_to_int\u001b[49m\u001b[43m[\u001b[49m\u001b[43ms\u001b[49m\u001b[43m]\u001b[49m\u001b[43m \u001b[49m\u001b[38;5;28;43;01mfor\u001b[39;49;00m\u001b[43m \u001b[49m\u001b[43ms\u001b[49m\u001b[43m \u001b[49m\u001b[38;5;129;43;01min\u001b[39;49;00m\u001b[43m \u001b[49m\u001b[43mpreprocessed\u001b[49m\u001b[43m]\u001b[49m\n\u001b[32m     14\u001b[39m \u001b[38;5;28;01mreturn\u001b[39;00m ids\n",
      "\u001b[36mCell\u001b[39m\u001b[36m \u001b[39m\u001b[32mIn[20]\u001b[39m\u001b[32m, line 12\u001b[39m, in \u001b[36m<listcomp>\u001b[39m\u001b[34m(.0)\u001b[39m\n\u001b[32m      8\u001b[39m preprocessed = re.split(\u001b[33mr\u001b[39m\u001b[33m'\u001b[39m\u001b[33m([,.:;?_!\u001b[39m\u001b[33m\"\u001b[39m\u001b[33m()\u001b[39m\u001b[38;5;130;01m\\'\u001b[39;00m\u001b[33m]|--|\u001b[39m\u001b[33m\\\u001b[39m\u001b[33ms)\u001b[39m\u001b[33m'\u001b[39m,text)\n\u001b[32m     10\u001b[39m preprocessed = [item.strip() \u001b[38;5;28;01mfor\u001b[39;00m  item \u001b[38;5;129;01min\u001b[39;00m preprocessed \u001b[38;5;28;01mif\u001b[39;00m item.strip()]\n\u001b[32m---> \u001b[39m\u001b[32m12\u001b[39m ids = [\u001b[38;5;28;43mself\u001b[39;49m\u001b[43m.\u001b[49m\u001b[43mstr_to_int\u001b[49m\u001b[43m[\u001b[49m\u001b[43ms\u001b[49m\u001b[43m]\u001b[49m \u001b[38;5;28;01mfor\u001b[39;00m s \u001b[38;5;129;01min\u001b[39;00m preprocessed]\n\u001b[32m     14\u001b[39m \u001b[38;5;28;01mreturn\u001b[39;00m ids\n",
      "\u001b[31mKeyError\u001b[39m: 'Hello'"
     ]
    }
   ],
   "source": [
    "text = \"Hello, do you like tea?\"\n",
    "print(tokenizer.encode(text))"
   ]
  },
  {
   "cell_type": "markdown",
   "id": "6490942e",
   "metadata": {},
   "source": [
    "<div class=\"alert alert-block alert-info\">\n",
    "    \n",
    "The problem is that the word \"Hello\" was not used in the The Verdict short story. \n",
    "\n",
    "Hence, it\n",
    "is not contained in the vocabulary. \n",
    "\n",
    "This highlights the need to consider large and diverse\n",
    "training sets to extend the vocabulary when working on LLMs.\n",
    "\n",
    "</div>"
   ]
  },
  {
   "cell_type": "code",
   "execution_count": null,
   "id": "76861ad4",
   "metadata": {},
   "outputs": [],
   "source": []
  }
 ],
 "metadata": {
  "kernelspec": {
   "display_name": "livonia",
   "language": "python",
   "name": "python3"
  },
  "language_info": {
   "codemirror_mode": {
    "name": "ipython",
    "version": 3
   },
   "file_extension": ".py",
   "mimetype": "text/x-python",
   "name": "python",
   "nbconvert_exporter": "python",
   "pygments_lexer": "ipython3",
   "version": "3.11.13"
  }
 },
 "nbformat": 4,
 "nbformat_minor": 5
}
