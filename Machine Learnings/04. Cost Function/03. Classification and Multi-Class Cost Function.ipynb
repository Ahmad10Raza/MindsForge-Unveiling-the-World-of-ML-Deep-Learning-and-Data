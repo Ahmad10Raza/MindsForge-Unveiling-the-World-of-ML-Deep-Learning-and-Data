{
 "cells": [
  {
   "cell_type": "markdown",
   "metadata": {},
   "source": [
    "# Cost Function Of Classifications Problems?"
   ]
  },
  {
   "cell_type": "markdown",
   "metadata": {},
   "source": [
    "A cost function in classification problems measures the error between the model's predictions and the actual data. It quantifies the penalty for incorrect predictions, guiding the learning algorithm to adjust the model's parameters for minimizing the total error.\n",
    "\n",
    "There are several types of cost functions used in classification problems:\n",
    "\n",
    "1. **Binary Cross-Entropy Loss (Log Loss)**: This is used in binary classification problems. It measures the performance of a classification model whose output is a probability value between 0 and 1. It heavily penalizes confident and wrong predictions.\n",
    "\n",
    "2. **Categorical Cross-Entropy Loss**: This is used in multi-class classification problems where each instance belongs to exactly one of three or more classes. It measures the performance of a classification model whose output is a probability distribution over the classes.\n",
    "\n",
    "3. **Hinge Loss**: This is used for \"maximum-margin\" classification algorithms, such as Support Vector Machines (SVMs). It encourages correct classification with a maximum margin of confidence.\n",
    "\n",
    "4. **Zero-one Loss**: This simply counts the number of misclassifications. It equals 0 for a correct classification and 1 for an incorrect classification.\n",
    "\n",
    "5. **Squared Loss**: This is typically used in regression, but can be used in classification. It is the square of the difference between the actual and predicted values.\n",
    "\n",
    "Each of these cost functions has its own advantages and is suitable for different kinds of classification problems. The choice of cost function depends on the specific requirements of the classification problem at hand."
   ]
  },
  {
   "cell_type": "markdown",
   "metadata": {},
   "source": [
    "# 1. Ctegorical Cross-Entropy Loss :"
   ]
  },
  {
   "cell_type": "markdown",
   "metadata": {},
   "source": [
    "Categorical Cross-Entropy Loss is a loss function that is used in multi-class classification tasks. These are tasks where an instance can be classified into one of three or more possible types.\n",
    "\n",
    "The Categorical Cross-Entropy loss is used when the outputs are predicted probabilities for each class and the labels are one-hot encoded. A one-hot encoded label for an instance has 0 for all class probabilities except for the true class, which has a probability of 1.\n",
    "\n",
    "Mathematically, the Categorical Cross-Entropy Loss for a single instance is defined as:\n",
    "\n"
   ]
  },
  {
   "cell_type": "markdown",
   "metadata": {
    "vscode": {
     "languageId": ""
    }
   },
   "source": [
    "Categorical Cross-Entropy Loss = - Σ (y_i * log(ŷ_i))"
   ]
  },
  {
   "cell_type": "markdown",
   "metadata": {},
   "source": [
    "\n",
    "\n",
    "Where:\n",
    "\n",
    "- `y_i` is the actual class label for class `i` in one-hot encoded form (0 or 1).\n",
    "- `ŷ_i` is the predicted probability of the instance belonging to class `i`.\n",
    "- `Σ` is the sum over all classes.\n",
    "\n",
    "The loss for a batch of data is usually calculated as the average loss over all instances in the batch.\n",
    "\n",
    "The Categorical Cross-Entropy Loss is always positive, and a perfect model would have a loss of 0. The closer the predicted probabilities `ŷ_i` are to the actual class labels `y_i`, the lower the loss value.\n",
    "\n",
    "One of the main advantages of Categorical Cross-Entropy is that it heavily penalizes confident and wrong predictions, which makes it a good choice for most multi-class classification problems."
   ]
  },
  {
   "cell_type": "markdown",
   "metadata": {},
   "source": [
    "Categorical Cross-Entropy Loss is a loss function that is used in multi-class classification tasks. These are tasks where an instance can be classified into one of three or more possible types.\n",
    "\n",
    "The Categorical Cross-Entropy loss is used when the outputs are predicted probabilities for each class and the labels are one-hot encoded. A one-hot encoded label for an instance has 0 for all class probabilities except for the true class, which has a probability of 1.\n",
    "\n",
    "Mathematically, the Categorical Cross-Entropy Loss for a single instance is defined as:\n",
    "\n"
   ]
  },
  {
   "cell_type": "markdown",
   "metadata": {
    "vscode": {
     "languageId": ""
    }
   },
   "source": [
    "Categorical Cross-Entropy Loss = - Σ (y_i * log(ŷ_i))"
   ]
  },
  {
   "cell_type": "markdown",
   "metadata": {},
   "source": [
    "\n",
    "\n",
    "Where:\n",
    "\n",
    "- `y_i` is the actual class label for class `i` in one-hot encoded form (0 or 1).\n",
    "- `ŷ_i` is the predicted probability of the instance belonging to class `i`.\n",
    "- `Σ` is the sum over all classes.\n",
    "\n",
    "The loss for a batch of data is usually calculated as the average loss over all instances in the batch.\n",
    "\n",
    "The Categorical Cross-Entropy Loss is always positive, and a perfect model would have a loss of 0. The closer the predicted probabilities `ŷ_i` are to the actual class labels `y_i`, the lower the loss value.\n",
    "\n",
    "One of the main advantages of Categorical Cross-Entropy is that it heavily penalizes confident and wrong predictions, which makes it a good choice for most multi-class classification problems."
   ]
  },
  {
   "cell_type": "markdown",
   "metadata": {},
   "source": [
    "# 2. Binary Corss-Entropy?"
   ]
  },
  {
   "cell_type": "markdown",
   "metadata": {},
   "source": [
    "Binary Cross-Entropy, also known as Log Loss, is a loss function used in binary classification tasks. It measures the performance of a classification model whose output is a probability value between 0 and 1. \n",
    "\n",
    "The binary cross-entropy loss function is suitable for binary classification problems, where each instance belongs to exactly one of two classes. The actual class labels are often coded as 0 and 1, with 1 typically representing the positive class.\n",
    "\n",
    "Mathematically, it is defined as:\n",
    "\n"
   ]
  },
  {
   "cell_type": "code",
   "execution_count": 3,
   "metadata": {},
   "outputs": [
    {
     "data": {
      "image/png": "[encoded data removed]",
      "text/plain": [
       "<IPython.core.display.Image object>"
      ]
     },
     "execution_count": 3,
     "metadata": {},
     "output_type": "execute_result"
    }
   ],
   "source": [
    "from IPython.display import Image\n",
    "Image(filename='./images/LL.png')"
   ]
  },
  {
   "cell_type": "markdown",
   "metadata": {
    "vscode": {
     "languageId": ""
    }
   },
   "source": [
    "Binary Cross-Entropy Loss = - (1/n) * Σ [y_i*log(ŷ_i) + (1 - y_i)*log(1 - ŷ_i)]"
   ]
  },
  {
   "cell_type": "markdown",
   "metadata": {},
   "source": [
    "\n",
    "\n",
    "Where:\n",
    "\n",
    "- `n` is the total number of instances.\n",
    "- `y_i` is the actual class label of an instance (0 or 1).\n",
    "- `ŷ_i` is the predicted probability of the instance being in class 1.\n",
    "- `Σ` is the sum over all instances.\n",
    "- `log` is the natural logarithm.\n",
    "\n",
    "The binary cross-entropy loss is always positive, and a perfect model would have a log loss of exactly 0. The closer the predicted probabilities `ŷ_i` are to the actual class labels `y_i`, the lower the loss value.\n",
    "\n",
    "One of the main advantages of binary cross-entropy is that it heavily penalizes confident and wrong predictions, which makes it a good choice for most binary classification problems."
   ]
  },
  {
   "cell_type": "markdown",
   "metadata": {},
   "source": [
    "# What is the difference between binary cross-entropy and categorical cross-entropy loss functions?"
   ]
  },
  {
   "cell_type": "markdown",
   "metadata": {},
   "source": [
    "Binary Cross-Entropy and Categorical Cross-Entropy are both loss functions used in classification tasks, but they are used in different scenarios:\n",
    "\n",
    "1. **Binary Cross-Entropy Loss** is used when the classification problem is binary, i.e., each instance belongs to exactly one of two classes. The output of the model is a single probability p, and the target can be either 0 or 1. The loss for each instance is calculated as `-y*log(p) - (1 - y)*log(1 - p)`, where `y` is the actual class and `p` is the predicted probability of the class being 1.\n",
    "\n",
    "2. **Categorical Cross-Entropy Loss** is used when the classification problem involves more than two classes, i.e., each instance belongs to exactly one of three or more classes. The output of the model is a probability distribution over the classes, and the target is a one-hot encoded vector. The loss for each instance is calculated as `- Σ y_i*log(p_i)`, where `y_i` is the actual class (0 or 1) for each element in the one-hot encoded vector, `p_i` is the predicted probability of each class, and the sum is over all the classes.\n",
    "\n",
    "In summary, use Binary Cross-Entropy for binary classification problems and Categorical Cross-Entropy for multi-class classification problems."
   ]
  },
  {
   "cell_type": "markdown",
   "metadata": {},
   "source": [
    "# 3. Hinge Loss?"
   ]
  },
  {
   "cell_type": "markdown",
   "metadata": {},
   "source": [
    "Hinge Loss is a loss function used primarily with Support Vector Machines (SVMs) and other machine learning algorithms that involve \"maximum-margin\" classification. It's a popular choice for binary and multi-class classification problems.\n",
    "\n",
    "The hinge loss function is designed to ensure that not only does the model correctly classify all training examples, but it also does so with a maximum margin of confidence. This margin is the distance between the data points and the decision boundary.\n",
    "\n",
    "Mathematically, the hinge loss for a single instance is defined as:\n",
    "\n"
   ]
  },
  {
   "cell_type": "code",
   "execution_count": 5,
   "metadata": {},
   "outputs": [
    {
     "data": {
      "image/png": "[encoded data removed]",
      "text/plain": [
       "<IPython.core.display.Image object>"
      ]
     },
     "execution_count": 5,
     "metadata": {},
     "output_type": "execute_result"
    }
   ],
   "source": [
    "Image(filename='./images/HL.png')"
   ]
  },
  {
   "cell_type": "markdown",
   "metadata": {
    "vscode": {
     "languageId": ""
    }
   },
   "source": [
    "Hinge Loss = max(0, 1 - y * ŷ)"
   ]
  },
  {
   "cell_type": "markdown",
   "metadata": {},
   "source": [
    "\n",
    "\n",
    "Where:\n",
    "\n",
    "- `y` is the actual class label of an instance (-1 or 1 in the case of binary classification).\n",
    "- `ŷ` is the predicted output, which is a real value between -1 and 1.\n",
    "\n",
    "The hinge loss is zero if the instance is correctly classified and outside the margin. If the instance is inside the margin, the hinge loss is proportional to the distance to the margin. If the instance is misclassified, the hinge loss increases linearly with the distance to the margin.\n",
    "\n",
    "One of the main advantages of the hinge loss is that it does not penalize predictions that are correct and outside the margin, which allows for faster and more robust training of the model. However, it is not differentiable at `y * ŷ = 1`, which can pose challenges for optimization algorithms that rely on the gradient of the loss function."
   ]
  },
  {
   "cell_type": "markdown",
   "metadata": {},
   "source": [
    "# Example:"
   ]
  },
  {
   "cell_type": "markdown",
   "metadata": {},
   "source": [
    "Let's calculate the values for Binary Cross-Entropy Loss, Categorical Cross-Entropy Loss, and Hinge Loss for some random values.\n",
    "\n",
    "1. **Binary Cross-Entropy Loss**\n",
    "\n",
    "Let's say we have a single instance with actual class `y = 1` and the model predicts `ŷ = 0.6`. The Binary Cross-Entropy Loss is calculated as:\n",
    "\n"
   ]
  },
  {
   "cell_type": "markdown",
   "metadata": {
    "vscode": {
     "languageId": ""
    }
   },
   "source": [
    "Binary Cross-Entropy Loss = - [y*log(ŷ) + (1 - y)*log(1 - ŷ)]\n",
    "                           = - [1*log(0.6) + (1 - 1)*log(1 - 0.6)]\n",
    "                           = - [-0.51]\n",
    "                           = 0.51"
   ]
  },
  {
   "cell_type": "markdown",
   "metadata": {},
   "source": [
    "\n",
    "\n",
    "2. **Categorical Cross-Entropy Loss**\n",
    "\n",
    "Let's say we have a single instance with actual class `y = [1, 0, 0]` (one-hot encoded) and the model predicts `ŷ = [0.7, 0.2, 0.1]`. The Categorical Cross-Entropy Loss is calculated as:\n",
    "\n"
   ]
  },
  {
   "cell_type": "markdown",
   "metadata": {
    "vscode": {
     "languageId": ""
    }
   },
   "source": [
    "Categorical Cross-Entropy Loss = - Σ (y_i * log(ŷ_i))\n",
    "                                = - [(1*log(0.7) + 0*log(0.2) + 0*log(0.1))]\n",
    "                                = - [-0.36]\n",
    "                                = 0.36"
   ]
  },
  {
   "cell_type": "markdown",
   "metadata": {},
   "source": [
    "\n",
    "\n",
    "3. **Hinge Loss**\n",
    "\n",
    "Let's say we have a single instance with actual class `y = 1` and the model predicts `ŷ = 0.6`. The Hinge Loss is calculated as:\n",
    "\n"
   ]
  },
  {
   "cell_type": "markdown",
   "metadata": {
    "vscode": {
     "languageId": ""
    }
   },
   "source": [
    "Hinge Loss = max(0, 1 - y * ŷ)\n",
    "           = max(0, 1 - 1 * 0.6)\n",
    "           = max(0, 0.4)\n",
    "           = 0.4"
   ]
  },
  {
   "cell_type": "markdown",
   "metadata": {},
   "source": [
    "\n",
    "\n",
    "Please note that the log function used here is the natural logarithm, and the values are approximations."
   ]
  },
  {
   "cell_type": "markdown",
   "metadata": {},
   "source": [
    "# Multi-Class Hinge Loss?"
   ]
  },
  {
   "cell_type": "markdown",
   "metadata": {},
   "source": [
    "Multi-Class Hinge Loss, also known as Multi-Class SVM Loss, is a generalization of the Hinge Loss used for binary classification to multi-class classification problems.\n",
    "\n",
    "In the multi-class scenario, the model outputs one score for each class, and the goal is to make the score of the correct class as high as possible and the scores of the incorrect classes as low as possible.\n",
    "\n",
    "Mathematically, the Multi-Class Hinge Loss for a single instance is defined as:\n",
    "\n"
   ]
  },
  {
   "cell_type": "code",
   "execution_count": null,
   "metadata": {
    "vscode": {
     "languageId": ""
    }
   },
   "outputs": [],
   "source": [
    "Multi-Class Hinge Loss = Σ max(0, ŷ_j - ŷ_correct + Δ)"
   ]
  },
  {
   "cell_type": "markdown",
   "metadata": {},
   "source": [
    "\n",
    "\n",
    "Where:\n",
    "\n",
    "- `ŷ_j` is the score predicted by the model for class `j`.\n",
    "- `ŷ_correct` is the score predicted by the model for the correct class.\n",
    "- `Δ` is the margin, a hyperparameter that determines how much the correct class score needs to exceed the incorrect class scores. It is usually set to 1.\n",
    "- `Σ` is the sum over all incorrect classes `j`.\n",
    "\n",
    "The loss is zero if the score of the correct class is greater than the scores of all incorrect classes by at least the margin `Δ`. Otherwise, the loss increases linearly with the difference between the correct class score and the scores of the incorrect classes.\n",
    "\n",
    "One of the main advantages of the Multi-Class Hinge Loss is that it encourages a large margin of separation between the scores of the correct and incorrect classes, which can lead to better generalization performance. However, like the binary Hinge Loss, it is not differentiable at the points where the loss switches from 0 to a positive value, which can pose challenges for optimization algorithms that rely on the gradient of the loss function."
   ]
  },
  {
   "cell_type": "markdown",
   "metadata": {},
   "source": [
    "# **Thank You!**"
   ]
  }
 ],
 "metadata": {
  "kernelspec": {
   "display_name": "Python 3",
   "language": "python",
   "name": "python3"
  },
  "language_info": {
   "codemirror_mode": {
    "name": "ipython",
    "version": 3
   },
   "file_extension": ".py",
   "mimetype": "text/x-python",
   "name": "python",
   "nbconvert_exporter": "python",
   "pygments_lexer": "ipython3",
   "version": "3.10.12"
  }
 },
 "nbformat": 4,
 "nbformat_minor": 2
}
