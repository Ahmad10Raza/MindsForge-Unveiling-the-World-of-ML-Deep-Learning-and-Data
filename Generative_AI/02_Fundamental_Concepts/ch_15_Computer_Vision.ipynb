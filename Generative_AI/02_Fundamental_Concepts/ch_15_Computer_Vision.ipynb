{
 "cells": [
  {
   "cell_type": "markdown",
   "metadata": {},
   "source": [
    "# Go To This Github Repo: https://github.com/Ahmad10Raza/Computer-Vision"
   ]
  }
 ],
 "metadata": {
  "language_info": {
   "name": "python"
  }
 },
 "nbformat": 4,
 "nbformat_minor": 2
}
