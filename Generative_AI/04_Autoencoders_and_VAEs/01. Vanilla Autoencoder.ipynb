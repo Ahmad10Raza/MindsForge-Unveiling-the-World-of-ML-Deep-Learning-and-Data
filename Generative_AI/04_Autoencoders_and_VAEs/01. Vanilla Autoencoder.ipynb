{
 "cells": [
  {
   "cell_type": "markdown",
   "metadata": {},
   "source": [
    "# **Vanilla Autoencoder?**"
   ]
  },
  {
   "cell_type": "markdown",
   "metadata": {},
   "source": [
    "A Vanilla Autoencoder is a basic type of neural network architecture used for unsupervised learning. It consists of an encoder that compresses input data into a lower-dimensional representation and a decoder that reconstructs the original data from this representation. The primary goal is to learn a compact and efficient representation of the input data through the training process, which involves minimizing the difference between the input and the reconstructed output. The term \"vanilla\" implies simplicity, as it represents the fundamental structure of an autoencoder without additional complexities or modifications."
   ]
  },
  {
   "cell_type": "markdown",
   "metadata": {},
   "source": [
    "# Architecture of Vanilla Autoencoder?"
   ]
  },
  {
   "cell_type": "code",
   "execution_count": 2,
   "metadata": {},
   "outputs": [
    {
     "data": {
      "image/png": "[encoded data removed]",
      "text/plain": [
       "<IPython.core.display.Image object>"
      ]
     },
     "execution_count": 2,
     "metadata": {},
     "output_type": "execute_result"
    }
   ],
   "source": [
    "from IPython.display import Image\n",
    "Image(filename='images/VA.png')"
   ]
  },
  {
   "cell_type": "markdown",
   "metadata": {},
   "source": [
    "The architecture of a Vanilla Autoencoder consists of two main components: an encoder and a decoder. The primary purpose is to learn a compressed representation of the input data and then reconstruct the original data from this representation. Here's a brief explanation of the architecture:\n",
    "\n",
    "1. **Encoder:**\n",
    "   - **Input Layer:** Represents the input features.\n",
    "   - **Hidden Layers:** Successive layers with a reduction in the number of neurons.\n",
    "   - **Bottleneck Layer:** The last hidden layer, also known as the coding layer, has the smallest number of neurons and represents the compressed form of the input data.\n",
    "\n",
    "2. **Decoder:**\n",
    "   - **Bottleneck Layer (Mirror Image):** The coding layer of the encoder is mirrored in the decoder.\n",
    "   - **Hidden Layers (Mirror Image):** Successive layers with an increase in the number of neurons.\n",
    "   - **Output Layer:** Represents the reconstructed input data, with the number of neurons matching the input features.\n",
    "\n",
    "The encoder transforms the input data into a compressed representation in the bottleneck layer, and the decoder reconstructs the original data from this representation. The training process involves adjusting the model's weights to minimize the difference between the input and the reconstructed output, typically measured using a loss function like Mean Squared Error (MSE). The goal is to learn a compact representation that captures the essential features of the input data."
   ]
  },
  {
   "cell_type": "markdown",
   "metadata": {},
   "source": [
    "# Key Characteristics?"
   ]
  },
  {
   "cell_type": "markdown",
   "metadata": {},
   "source": [
    "Vanilla Autoencoders have several key characteristics:\n",
    "\n",
    "1. **Simplicity**: They are the simplest form of autoencoders with just an input layer, a hidden layer (encoding layer), and an output layer (decoding layer).\n",
    "\n",
    "2. **Data-specific**: They are designed to be specific to the data they are trained on. This means they will not encode well for data that is significantly different from the training data.\n",
    "\n",
    "3. **Lossy**: The reconstruction of the input data will not be perfect and will be lossy. This is because the goal of the autoencoder is to capture the most important features of the data.\n",
    "\n",
    "4. **Unsupervised Learning**: They are trained using unsupervised learning, meaning they don't require explicit labels to learn from the data. They learn to encode the input data and then decode it back by minimizing the reconstruction error.\n",
    "\n",
    "5. **Bottleneck**: The hidden layer (encoding layer) is smaller than the input layer, creating a bottleneck. This forces the autoencoder to learn a compressed representation of the input data.\n",
    "\n",
    "6. **Non-linear transformations**: Vanilla autoencoders use non-linear transformations for both encoding and decoding steps.\n",
    "\n",
    "7. **Usage**: They are often used for dimensionality reduction, feature extraction, and learning generative models of data."
   ]
  },
  {
   "cell_type": "markdown",
   "metadata": {},
   "source": [
    "# Python VCode Implementation:"
   ]
  },
  {
   "cell_type": "markdown",
   "metadata": {},
   "source": [
    "Here's a simple implementation of a Vanilla Autoencoder using Python and Keras. This example assumes you're working with images of size 28x28 (such as the MNIST dataset), and it compresses them into a 32-dimensional vector.\n",
    "\n"
   ]
  },
  {
   "cell_type": "code",
   "execution_count": 3,
   "metadata": {},
   "outputs": [
    {
     "name": "stderr",
     "output_type": "stream",
     "text": [
      "2023-12-26 19:07:33.334736: I tensorflow/tsl/cuda/cudart_stub.cc:28] Could not find cuda drivers on your machine, GPU will not be used.\n",
      "2023-12-26 19:07:33.810517: I tensorflow/tsl/cuda/cudart_stub.cc:28] Could not find cuda drivers on your machine, GPU will not be used.\n",
      "2023-12-26 19:07:33.813507: I tensorflow/core/platform/cpu_feature_guard.cc:182] This TensorFlow binary is optimized to use available CPU instructions in performance-critical operations.\n",
      "To enable the following instructions: AVX2 FMA, in other operations, rebuild TensorFlow with the appropriate compiler flags.\n",
      "2023-12-26 19:07:36.205312: W tensorflow/compiler/tf2tensorrt/utils/py_utils.cc:38] TF-TRT Warning: Could not find TensorRT\n",
      "2023-12-26 19:07:41.806558: W tensorflow/tsl/framework/cpu_allocator_impl.cc:83] Allocation of 188160000 exceeds 10% of free system memory.\n",
      "2023-12-26 19:07:42.674978: W tensorflow/tsl/framework/cpu_allocator_impl.cc:83] Allocation of 188160000 exceeds 10% of free system memory.\n"
     ]
    },
    {
     "name": "stdout",
     "output_type": "stream",
     "text": [
      "Epoch 1/50\n",
      "233/235 [============================>.] - ETA: 0s - loss: 0.6960"
     ]
    },
    {
     "name": "stderr",
     "output_type": "stream",
     "text": [
      "2023-12-26 19:07:46.748655: W tensorflow/tsl/framework/cpu_allocator_impl.cc:83] Allocation of 31360000 exceeds 10% of free system memory.\n",
      "2023-12-26 19:07:46.843704: W tensorflow/tsl/framework/cpu_allocator_impl.cc:83] Allocation of 31360000 exceeds 10% of free system memory.\n"
     ]
    },
    {
     "name": "stdout",
     "output_type": "stream",
     "text": [
      "235/235 [==============================] - 4s 12ms/step - loss: 0.6960 - val_loss: 0.6959\n",
      "Epoch 2/50\n",
      "235/235 [==============================] - 2s 10ms/step - loss: 0.6958 - val_loss: 0.6958\n",
      "Epoch 3/50\n",
      "235/235 [==============================] - 2s 10ms/step - loss: 0.6956 - val_loss: 0.6956\n",
      "Epoch 4/50\n",
      "235/235 [==============================] - 3s 12ms/step - loss: 0.6954 - val_loss: 0.6954\n",
      "Epoch 5/50\n",
      "235/235 [==============================] - 2s 10ms/step - loss: 0.6953 - val_loss: 0.6952\n",
      "Epoch 6/50\n",
      "235/235 [==============================] - 3s 12ms/step - loss: 0.6951 - val_loss: 0.6950\n",
      "Epoch 7/50\n",
      "235/235 [==============================] - 2s 10ms/step - loss: 0.6949 - val_loss: 0.6949\n",
      "Epoch 8/50\n",
      "235/235 [==============================] - 3s 11ms/step - loss: 0.6948 - val_loss: 0.6947\n",
      "Epoch 9/50\n",
      "235/235 [==============================] - 3s 12ms/step - loss: 0.6946 - val_loss: 0.6945\n",
      "Epoch 10/50\n",
      "235/235 [==============================] - 2s 10ms/step - loss: 0.6944 - val_loss: 0.6944\n",
      "Epoch 11/50\n",
      "235/235 [==============================] - 3s 12ms/step - loss: 0.6943 - val_loss: 0.6942\n",
      "Epoch 12/50\n",
      "235/235 [==============================] - 2s 10ms/step - loss: 0.6941 - val_loss: 0.6941\n",
      "Epoch 13/50\n",
      "235/235 [==============================] - 3s 12ms/step - loss: 0.6940 - val_loss: 0.6939\n",
      "Epoch 14/50\n",
      "235/235 [==============================] - 3s 11ms/step - loss: 0.6938 - val_loss: 0.6938\n",
      "Epoch 15/50\n",
      "235/235 [==============================] - 3s 12ms/step - loss: 0.6937 - val_loss: 0.6936\n",
      "Epoch 16/50\n",
      "235/235 [==============================] - 3s 12ms/step - loss: 0.6935 - val_loss: 0.6935\n",
      "Epoch 17/50\n",
      "235/235 [==============================] - 3s 12ms/step - loss: 0.6934 - val_loss: 0.6933\n",
      "Epoch 18/50\n",
      "235/235 [==============================] - 2s 11ms/step - loss: 0.6933 - val_loss: 0.6932\n",
      "Epoch 19/50\n",
      "235/235 [==============================] - 3s 12ms/step - loss: 0.6931 - val_loss: 0.6930\n",
      "Epoch 20/50\n",
      "235/235 [==============================] - 3s 12ms/step - loss: 0.6930 - val_loss: 0.6929\n",
      "Epoch 21/50\n",
      "235/235 [==============================] - 3s 13ms/step - loss: 0.6928 - val_loss: 0.6928\n",
      "Epoch 22/50\n",
      "235/235 [==============================] - 3s 11ms/step - loss: 0.6927 - val_loss: 0.6926\n",
      "Epoch 23/50\n",
      "235/235 [==============================] - 3s 12ms/step - loss: 0.6926 - val_loss: 0.6925\n",
      "Epoch 24/50\n",
      "235/235 [==============================] - 3s 13ms/step - loss: 0.6924 - val_loss: 0.6924\n",
      "Epoch 25/50\n",
      "235/235 [==============================] - 3s 14ms/step - loss: 0.6923 - val_loss: 0.6922\n",
      "Epoch 26/50\n",
      "235/235 [==============================] - 3s 13ms/step - loss: 0.6922 - val_loss: 0.6921\n",
      "Epoch 27/50\n",
      "235/235 [==============================] - 3s 13ms/step - loss: 0.6920 - val_loss: 0.6920\n",
      "Epoch 28/50\n",
      "235/235 [==============================] - 3s 14ms/step - loss: 0.6919 - val_loss: 0.6918\n",
      "Epoch 29/50\n",
      "235/235 [==============================] - 3s 14ms/step - loss: 0.6918 - val_loss: 0.6917\n",
      "Epoch 30/50\n",
      "235/235 [==============================] - 3s 13ms/step - loss: 0.6917 - val_loss: 0.6916\n",
      "Epoch 31/50\n",
      "235/235 [==============================] - 3s 13ms/step - loss: 0.6915 - val_loss: 0.6915\n",
      "Epoch 32/50\n",
      "235/235 [==============================] - 3s 13ms/step - loss: 0.6914 - val_loss: 0.6913\n",
      "Epoch 33/50\n",
      "235/235 [==============================] - 3s 12ms/step - loss: 0.6913 - val_loss: 0.6912\n",
      "Epoch 34/50\n",
      "235/235 [==============================] - 2s 11ms/step - loss: 0.6912 - val_loss: 0.6911\n",
      "Epoch 35/50\n",
      "235/235 [==============================] - 4s 15ms/step - loss: 0.6910 - val_loss: 0.6909\n",
      "Epoch 36/50\n",
      "235/235 [==============================] - 4s 17ms/step - loss: 0.6909 - val_loss: 0.6908\n",
      "Epoch 37/50\n",
      "235/235 [==============================] - 3s 13ms/step - loss: 0.6908 - val_loss: 0.6907\n",
      "Epoch 38/50\n",
      "235/235 [==============================] - 3s 14ms/step - loss: 0.6906 - val_loss: 0.6906\n",
      "Epoch 39/50\n",
      "235/235 [==============================] - 5s 19ms/step - loss: 0.6905 - val_loss: 0.6904\n",
      "Epoch 40/50\n",
      "235/235 [==============================] - 4s 15ms/step - loss: 0.6904 - val_loss: 0.6903\n",
      "Epoch 41/50\n",
      "235/235 [==============================] - 3s 14ms/step - loss: 0.6903 - val_loss: 0.6902\n",
      "Epoch 42/50\n",
      "235/235 [==============================] - 3s 13ms/step - loss: 0.6901 - val_loss: 0.6900\n",
      "Epoch 43/50\n",
      "235/235 [==============================] - 3s 13ms/step - loss: 0.6900 - val_loss: 0.6899\n",
      "Epoch 44/50\n",
      "235/235 [==============================] - 3s 13ms/step - loss: 0.6899 - val_loss: 0.6898\n",
      "Epoch 45/50\n",
      "235/235 [==============================] - 3s 14ms/step - loss: 0.6897 - val_loss: 0.6896\n",
      "Epoch 46/50\n",
      "235/235 [==============================] - 3s 12ms/step - loss: 0.6896 - val_loss: 0.6895\n",
      "Epoch 47/50\n",
      "235/235 [==============================] - 3s 11ms/step - loss: 0.6895 - val_loss: 0.6894\n",
      "Epoch 48/50\n",
      "235/235 [==============================] - 3s 12ms/step - loss: 0.6893 - val_loss: 0.6892\n",
      "Epoch 49/50\n",
      "235/235 [==============================] - 4s 16ms/step - loss: 0.6892 - val_loss: 0.6891\n",
      "Epoch 50/50\n",
      "235/235 [==============================] - 3s 13ms/step - loss: 0.6891 - val_loss: 0.6889\n"
     ]
    },
    {
     "data": {
      "text/plain": [
       "<keras.src.callbacks.History at 0x7fe5f1f1ffa0>"
      ]
     },
     "execution_count": 3,
     "metadata": {},
     "output_type": "execute_result"
    }
   ],
   "source": [
    "from keras.layers import Input, Dense\n",
    "from keras.models import Model\n",
    "\n",
    "# this is the size of our encoded representations\n",
    "encoding_dim = 32  \n",
    "\n",
    "# this is our input placeholder\n",
    "input_img = Input(shape=(784,))\n",
    "# \"encoded\" is the encoded representation of the input\n",
    "encoded = Dense(encoding_dim, activation='relu')(input_img)\n",
    "# \"decoded\" is the lossy reconstruction of the input\n",
    "decoded = Dense(784, activation='sigmoid')(encoded)\n",
    "\n",
    "# this model maps an input to its reconstruction\n",
    "autoencoder = Model(input_img, decoded)\n",
    "\n",
    "# this model maps an input to its encoded representation\n",
    "encoder = Model(input_img, encoded)\n",
    "\n",
    "# create a placeholder for an encoded (32-dimensional) input\n",
    "encoded_input = Input(shape=(encoding_dim,))\n",
    "# retrieve the last layer of the autoencoder model\n",
    "decoder_layer = autoencoder.layers[-1]\n",
    "# create the decoder model\n",
    "decoder = Model(encoded_input, decoder_layer(encoded_input))\n",
    "\n",
    "autoencoder.compile(optimizer='adadelta', loss='binary_crossentropy')\n",
    "\n",
    "# prepare input data\n",
    "from keras.datasets import mnist\n",
    "import numpy as np\n",
    "(x_train, _), (x_test, _) = mnist.load_data()\n",
    "\n",
    "x_train = x_train.astype('float32') / 255.\n",
    "x_test = x_test.astype('float32') / 255.\n",
    "x_train = x_train.reshape((len(x_train), np.prod(x_train.shape[1:])))\n",
    "x_test = x_test.reshape((len(x_test), np.prod(x_test.shape[1:])))\n",
    "\n",
    "# train autoencoder\n",
    "autoencoder.fit(x_train, x_train,\n",
    "                epochs=50,\n",
    "                batch_size=256,\n",
    "                shuffle=True,\n",
    "                validation_data=(x_test, x_test))"
   ]
  },
  {
   "cell_type": "markdown",
   "metadata": {},
   "source": [
    "\n",
    "\n",
    "In this code, we first define the architecture of the autoencoder with an input layer, an encoding layer, and a decoding layer. We then compile the model with the Adadelta optimizer and the binary cross-entropy loss function. After preparing the input data, we train the autoencoder to reconstruct the input images."
   ]
  },
  {
   "cell_type": "markdown",
   "metadata": {},
   "source": [
    "# How can I visualize the encoded representations learned by a Vanilla Autoencoder?"
   ]
  },
  {
   "cell_type": "markdown",
   "metadata": {},
   "source": [
    "To visualize the encoded representations learned by the Vanilla Autoencoder, you can use the `encoder` model to predict the encoded representation of the test data, and then plot these representations. \n",
    "\n",
    "Here's how you can do it:\n",
    "\n"
   ]
  },
  {
   "cell_type": "code",
   "execution_count": 4,
   "metadata": {},
   "outputs": [
    {
     "name": "stderr",
     "output_type": "stream",
     "text": [
      "2023-12-26 19:11:34.740398: W tensorflow/tsl/framework/cpu_allocator_impl.cc:83] Allocation of 31360000 exceeds 10% of free system memory.\n"
     ]
    },
    {
     "name": "stdout",
     "output_type": "stream",
     "text": [
      "313/313 [==============================] - 1s 2ms/step\n",
      "313/313 [==============================] - 1s 3ms/step\n"
     ]
    },
    {
     "data": {
      "image/png": "[encoded data removed]",
      "text/plain": [
       "<Figure size 2000x400 with 20 Axes>"
      ]
     },
     "metadata": {},
     "output_type": "display_data"
    }
   ],
   "source": [
    "import matplotlib.pyplot as plt\n",
    "\n",
    "# encode and decode some digits\n",
    "# note that we take them from the *test* set\n",
    "encoded_imgs = encoder.predict(x_test)\n",
    "decoded_imgs = decoder.predict(encoded_imgs)\n",
    "\n",
    "n = 10  # how many digits we will display\n",
    "plt.figure(figsize=(20, 4))\n",
    "for i in range(n):\n",
    "    # display original\n",
    "    ax = plt.subplot(2, n, i + 1)\n",
    "    plt.imshow(x_test[i].reshape(28, 28))\n",
    "    plt.gray()\n",
    "    ax.get_xaxis().set_visible(False)\n",
    "    ax.get_yaxis().set_visible(False)\n",
    "\n",
    "    # display reconstruction\n",
    "    ax = plt.subplot(2, n, i + 1 + n)\n",
    "    plt.imshow(decoded_imgs[i].reshape(28, 28))\n",
    "    plt.gray()\n",
    "    ax.get_xaxis().set_visible(False)\n",
    "    ax.get_yaxis().set_visible(False)\n",
    "plt.show()"
   ]
  },
  {
   "cell_type": "markdown",
   "metadata": {},
   "source": [
    "\n",
    "\n",
    "This code will display the original images in the top row and the reconstructed images in the bottom row. You can see how well the autoencoder is able to reconstruct the original images from the encoded representations."
   ]
  },
  {
   "cell_type": "markdown",
   "metadata": {},
   "source": [
    "# How can I use a Vanilla Autoencoder for dimensionality reduction?"
   ]
  },
  {
   "cell_type": "markdown",
   "metadata": {},
   "source": [
    "A Vanilla Autoencoder can be used for dimensionality reduction by training the autoencoder on the data and then using the encoder part of the autoencoder to transform the high-dimensional input data into a lower-dimensional form.\n",
    "\n",
    "Here's a simple example of how you can do this:\n",
    "\n"
   ]
  },
  {
   "cell_type": "code",
   "execution_count": null,
   "metadata": {},
   "outputs": [],
   "source": [
    "from keras.layers import Input, Dense\n",
    "from keras.models import Model\n",
    "\n",
    "# this is the size of our encoded representations\n",
    "encoding_dim = 32  \n",
    "\n",
    "# this is our input placeholder\n",
    "input_img = Input(shape=(784,))\n",
    "# \"encoded\" is the encoded representation of the input\n",
    "encoded = Dense(encoding_dim, activation='relu')(input_img)\n",
    "# \"decoded\" is the lossy reconstruction of the input\n",
    "decoded = Dense(784, activation='sigmoid')(encoded)\n",
    "\n",
    "# this model maps an input to its reconstruction\n",
    "autoencoder = Model(input_img, decoded)\n",
    "\n",
    "# this model maps an input to its encoded representation\n",
    "encoder = Model(input_img, encoded)\n",
    "\n",
    "autoencoder.compile(optimizer='adadelta', loss='binary_crossentropy')\n",
    "\n",
    "# prepare input data\n",
    "from keras.datasets import mnist\n",
    "import numpy as np\n",
    "(x_train, _), (x_test, _) = mnist.load_data()\n",
    "\n",
    "x_train = x_train.astype('float32') / 255.\n",
    "x_test = x_test.astype('float32') / 255.\n",
    "x_train = x_train.reshape((len(x_train), np.prod(x_train.shape[1:])))\n",
    "x_test = x_test.reshape((len(x_test), np.prod(x_test.shape[1:])))\n",
    "\n",
    "# train autoencoder\n",
    "autoencoder.fit(x_train, x_train,\n",
    "                epochs=50,\n",
    "                batch_size=256,\n",
    "                shuffle=True,\n",
    "                validation_data=(x_test, x_test))\n",
    "\n",
    "# use the encoder to reduce the dimensionality of the data\n",
    "x_test_encoded = encoder.predict(x_test)"
   ]
  },
  {
   "cell_type": "markdown",
   "metadata": {},
   "source": [
    "\n",
    "\n",
    "In this code, `x_test_encoded` will be a lower-dimensional representation of `x_test`. You can use this lower-dimensional data for further analysis or visualization. The dimensionality of the data is reduced from 784 to the `encoding_dim` (32 in this case)."
   ]
  },
  {
   "cell_type": "markdown",
   "metadata": {},
   "source": [
    "# How can I use a Vanilla Autoencoder for anomaly detection?"
   ]
  },
  {
   "cell_type": "markdown",
   "metadata": {},
   "source": [
    "A Vanilla Autoencoder can be used for anomaly detection by training the autoencoder on the normal data and then using the reconstruction error to detect anomalies. The idea is that the autoencoder will learn to reconstruct normal data well, but it will have a high reconstruction error for anomalous data.\n",
    "\n",
    "Here's a simple example of how you can do this:\n",
    "\n"
   ]
  },
  {
   "cell_type": "code",
   "execution_count": null,
   "metadata": {},
   "outputs": [],
   "source": [
    "from keras.layers import Input, Dense\n",
    "from keras.models import Model\n",
    "from sklearn.metrics import mean_squared_error\n",
    "\n",
    "# this is the size of our encoded representations\n",
    "encoding_dim = 32  \n",
    "\n",
    "# this is our input placeholder\n",
    "input_img = Input(shape=(784,))\n",
    "# \"encoded\" is the encoded representation of the input\n",
    "encoded = Dense(encoding_dim, activation='relu')(input_img)\n",
    "# \"decoded\" is the lossy reconstruction of the input\n",
    "decoded = Dense(784, activation='sigmoid')(encoded)\n",
    "\n",
    "# this model maps an input to its reconstruction\n",
    "autoencoder = Model(input_img, decoded)\n",
    "\n",
    "autoencoder.compile(optimizer='adadelta', loss='binary_crossentropy')\n",
    "\n",
    "# prepare input data\n",
    "from keras.datasets import mnist\n",
    "import numpy as np\n",
    "(x_train, _), (x_test, _) = mnist.load_data()\n",
    "\n",
    "x_train = x_train.astype('float32') / 255.\n",
    "x_test = x_test.astype('float32') / 255.\n",
    "x_train = x_train.reshape((len(x_train), np.prod(x_train.shape[1:])))\n",
    "x_test = x_test.reshape((len(x_test), np.prod(x_test.shape[1:])))\n",
    "\n",
    "# train autoencoder on normal data\n",
    "autoencoder.fit(x_train, x_train,\n",
    "                epochs=50,\n",
    "                batch_size=256,\n",
    "                shuffle=True,\n",
    "                validation_data=(x_test, x_test))\n",
    "\n",
    "# use the autoencoder to reconstruct the test data\n",
    "x_test_decoded = autoencoder.predict(x_test)\n",
    "\n",
    "# compute the mean squared error between the test data and their reconstructions\n",
    "mse = np.mean(np.power(x_test - x_test_decoded, 2), axis=1)\n",
    "\n",
    "# anomalies are instances with a reconstruction error greater than a certain threshold\n",
    "threshold = np.quantile(mse, 0.99)  # adjust this value based on your understanding of the data\n",
    "anomalies = x_test[mse > threshold]"
   ]
  },
  {
   "cell_type": "markdown",
   "metadata": {},
   "source": [
    "\n",
    "\n",
    "In this code, `anomalies` will be the instances in `x_test` that the autoencoder considers to be anomalies. The threshold for considering an instance to be an anomaly is set to be the 99th percentile of the reconstruction errors on the test data, but you can adjust this value based on your understanding of the data."
   ]
  },
  {
   "cell_type": "markdown",
   "metadata": {},
   "source": [
    "# Application?"
   ]
  },
  {
   "cell_type": "markdown",
   "metadata": {},
   "source": [
    "Vanilla Autoencoders have several applications in the field of machine learning and data science:\n",
    "\n",
    "1. **Dimensionality Reduction**: Autoencoders can be used to reduce the dimensionality of data by learning a compressed representation of the input data. This can be useful for visualizing high-dimensional data or for preprocessing data before feeding it into another machine learning model.\n",
    "\n",
    "2. **Anomaly Detection**: Autoencoders can be used for anomaly detection by training the autoencoder on normal data and then using the reconstruction error to detect anomalies. The idea is that the autoencoder will learn to reconstruct normal data well, but it will have a high reconstruction error for anomalous data.\n",
    "\n",
    "3. **Denoising**: Autoencoders can be used to remove noise from data. This is done by training the autoencoder on noisy data as input and clean data as output. The autoencoder will learn to map from the noisy data to the clean data, effectively learning to remove the noise.\n",
    "\n",
    "4. **Feature Extraction**: The encoded representations learned by an autoencoder can be used as features for another machine learning model. These features can sometimes capture useful information that is not easily accessible from the raw data.\n",
    "\n",
    "5. **Data Generation**: Although not typically used for this purpose, autoencoders can potentially be used to generate new data that is similar to the training data by sampling random points in the latent space and decoding these points. However, other types of models like Variational Autoencoders or Generative Adversarial Networks are usually better suited for this task."
   ]
  },
  {
   "cell_type": "markdown",
   "metadata": {},
   "source": [
    "# **Thank You!**"
   ]
  }
 ],
 "metadata": {
  "kernelspec": {
   "display_name": "Python 3",
   "language": "python",
   "name": "python3"
  },
  "language_info": {
   "codemirror_mode": {
    "name": "ipython",
    "version": 3
   },
   "file_extension": ".py",
   "mimetype": "text/x-python",
   "name": "python",
   "nbconvert_exporter": "python",
   "pygments_lexer": "ipython3",
   "version": "3.10.12"
  }
 },
 "nbformat": 4,
 "nbformat_minor": 2
}
